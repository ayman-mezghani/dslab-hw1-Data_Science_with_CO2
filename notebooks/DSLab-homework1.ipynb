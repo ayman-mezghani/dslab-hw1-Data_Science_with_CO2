{
 "cells": [
  {
   "cell_type": "markdown",
   "metadata": {},
   "source": [
    "# DSLab Homework 1 - Data Science with CO2\n",
    "\n",
    "## Hand-in Instructions\n",
    "\n",
    "- __Due: 23.03.2021 23h59 CET__\n",
    "- `git push` your final verion to the master branch of your group's Renku repository before the due\n",
    "- check if `Dockerfile`, `environment.yml` and `requirements.txt` are properly written\n",
    "- add necessary comments and discussion to make your codes readable"
   ]
  },
  {
   "cell_type": "markdown",
   "metadata": {},
   "source": [
    "## Carbosense\n",
    "\n",
    "The project Carbosense establishes a uniquely dense CO2 sensor network across Switzerland to provide near-real time information on man-made emissions and CO2 uptake by the biosphere. The main goal of the project is to improve the understanding of the small-scale CO2 fluxes in Switzerland and concurrently to contribute to a better top-down quantification of the Swiss CO2 emissions. The Carbosense network has a spatial focus on the City of Zurich where more than 50 sensors are deployed. Network operations started in July 2017.\n",
    "\n",
    "<img src=\"http://carbosense.wdfiles.com/local--files/main:project/CarboSense_MAP_20191113_LowRes.jpg\" width=\"500\">\n",
    "\n",
    "<img src=\"http://carbosense.wdfiles.com/local--files/main:sensors/LP8_ZLMT_3.JPG\" width=\"156\">  <img src=\"http://carbosense.wdfiles.com/local--files/main:sensors/LP8_sensor_SMALL.jpg\" width=\"300\">"
   ]
  },
  {
   "cell_type": "markdown",
   "metadata": {},
   "source": [
    "## Description of the homework\n",
    "\n",
    "In this homework, we will curate a set of **CO2 measurements**, measured from cheap but inaccurate sensors, that have been deployed in the city of Zurich from the Carbosense project. The goal of the exercise is twofold: \n",
    "\n",
    "1. Learn how to deal with real world sensor timeseries data, and organize them efficiently using python dataframes.\n",
    "\n",
    "2. Apply data science tools to model the measurements, and use the learned model to process them (e.g., detect drifts in the sensor measurements). \n",
    "\n",
    "The sensor network consists of 46 sites, located in different parts of the city. Each site contains three different sensors measuring (a) **CO2 concentration**, (b) **temperature**, and (c) **humidity**. Beside these measurements, we have the following additional information that can be used to process the measurements: \n",
    "\n",
    "1. The **altitude** at which the CO2 sensor is located, and the GPS coordinates (latitude, longitude).\n",
    "\n",
    "2. A clustering of the city of Zurich in 17 different city **zones** and the zone in which the sensor belongs to. Some characteristic zones are industrial area, residential area, forest, glacier, lake, etc.\n",
    "\n",
    "## Prior knowledge\n",
    "\n",
    "The average value of the CO2 in a city is approximately 400 ppm. However, the exact measurement in each site depends on parameters such as the temperature, the humidity, the altitude, and the level of traffic around the site. For example, sensors positioned in high altitude (mountains, forests), are expected to have a much lower and uniform level of CO2 than sensors that are positioned in a business area with much higher traffic activity. Moreover, we know that there is a strong dependence of the CO2 measurements, on temperature and humidity.\n",
    "\n",
    "Given this knowledge, you are asked to define an algorithm that curates the data, by detecting and removing potential drifts. **The algorithm should be based on the fact that sensors in similar conditions are expected to have similar measurements.** \n",
    "\n",
    "## To start with\n",
    "\n",
    "The following csv files in the `../data/carbosense-raw/` folder will be needed: \n",
    "\n",
    "1. `CO2_sensor_measurements.csv`\n",
    "    \n",
    "   __Description__: It containts the CO2 measurements `CO2`, the name of the site `LocationName`, a unique sensor identifier `SensorUnit_ID`, and the time instance in which the measurement was taken `timestamp`.\n",
    "    \n",
    "2. `temperature_humidity.csv`\n",
    "\n",
    "   __Description__: It contains the temperature and the humidity measurements for each sensor identifier, at each timestamp `Timestamp`. For each `SensorUnit_ID`, the temperature and the humidity can be found in the corresponding columns of the dataframe `{SensorUnit_ID}.temperature`, `{SensorUnit_ID}.humidity`.\n",
    "    \n",
    "3. `sensor_metadata.csv`\n",
    "\n",
    "   __Description__: It contains the name of the site `LocationName`, the zone index `zone`, the altitude in meters `altitude`, the longitude `lon`, and the latitude `lat`. \n",
    "\n",
    "Import the following python packages:"
   ]
  },
  {
   "cell_type": "code",
   "execution_count": 99,
   "metadata": {},
   "outputs": [],
   "source": [
    "import pandas as pd\n",
    "import numpy as np\n",
    "import sklearn\n",
    "import plotly.express as px\n",
    "import plotly.graph_objects as go\n",
    "import os"
   ]
  },
  {
   "cell_type": "code",
   "execution_count": 100,
   "metadata": {},
   "outputs": [],
   "source": [
    "pd.options.mode.chained_assignment = None"
   ]
  },
  {
   "cell_type": "markdown",
   "metadata": {},
   "source": [
    "## PART I: Handling time series with pandas (10 points)"
   ]
  },
  {
   "cell_type": "markdown",
   "metadata": {},
   "source": [
    "### a) **8/10**\n",
    "\n",
    "Merge the `CO2_sensor_measurements.csv`, `temperature_humidity.csv`, and `sensors_metadata.csv`, into a single dataframe. \n",
    "\n",
    "* The merged dataframe contains:\n",
    "    - index: the time instance `timestamp` of the measurements\n",
    "    - columns: the location of the site `LocationName`, the sensor ID `SensorUnit_ID`, the CO2 measurement `CO2`, the `temperature`, the `humidity`, the `zone`, the `altitude`, the longitude `lon` and the latitude `lat`.\n",
    "\n",
    "| timestamp | LocationName | SensorUnit_ID | CO2 | temperature | humidity | zone | altitude | lon | lat |\n",
    "|:---------:|:------------:|:-------------:|:---:|:-----------:|:--------:|:----:|:--------:|:---:|:---:|\n",
    "|    ...    |      ...     |      ...      | ... |     ...     |    ...   |  ... |    ...   | ... | ... |\n",
    "\n",
    "\n",
    "\n",
    "* For each measurement (CO2, humidity, temperature), __take the average over an interval of 30 min__. \n",
    "\n",
    "* If there are missing measurements, __interpolate them linearly__ from measurements that are close by in time.\n",
    "\n",
    "__Hints__: The following methods could be useful\n",
    "\n",
    "1. ```python \n",
    "pandas.DataFrame.resample()\n",
    "``` \n",
    "https://pandas.pydata.org/pandas-docs/stable/reference/api/pandas.DataFrame.resample.html\n",
    "    \n",
    "2. ```python\n",
    "pandas.DataFrame.interpolate()\n",
    "```\n",
    "https://pandas.pydata.org/pandas-docs/stable/reference/api/pandas.DataFrame.interpolate.html\n",
    "    \n",
    "3. ```python\n",
    "pandas.DataFrame.mean()\n",
    "```\n",
    "https://pandas.pydata.org/pandas-docs/stable/reference/api/pandas.DataFrame.mean.html\n",
    "    \n",
    "4. ```python\n",
    "pandas.DataFrame.append()\n",
    "```\n",
    "https://pandas.pydata.org/pandas-docs/stable/reference/api/pandas.DataFrame.append.html"
   ]
  },
  {
   "cell_type": "code",
   "execution_count": 157,
   "metadata": {},
   "outputs": [],
   "source": [
    "!git lfs pull"
   ]
  },
  {
   "cell_type": "code",
   "execution_count": 179,
   "metadata": {},
   "outputs": [],
   "source": [
    "co2_measurements = pd.read_csv(\"../data/carbosense-raw/CO2_sensor_measurements.csv\",\n",
    "                             sep=\"\\t\",\n",
    "                             parse_dates=['timestamp'])\n",
    "co2_measurements = co2_measurements.rename({'SensorUnit_ID':'sensor'}, axis=1)"
   ]
  },
  {
   "cell_type": "code",
   "execution_count": 180,
   "metadata": {},
   "outputs": [
    {
     "data": {
      "text/html": [
       "<div>\n",
       "<style scoped>\n",
       "    .dataframe tbody tr th:only-of-type {\n",
       "        vertical-align: middle;\n",
       "    }\n",
       "\n",
       "    .dataframe tbody tr th {\n",
       "        vertical-align: top;\n",
       "    }\n",
       "\n",
       "    .dataframe thead th {\n",
       "        text-align: right;\n",
       "    }\n",
       "</style>\n",
       "<table border=\"1\" class=\"dataframe\">\n",
       "  <thead>\n",
       "    <tr style=\"text-align: right;\">\n",
       "      <th></th>\n",
       "      <th>timestamp</th>\n",
       "      <th>LocationName</th>\n",
       "      <th>sensor</th>\n",
       "      <th>CO2</th>\n",
       "    </tr>\n",
       "  </thead>\n",
       "  <tbody>\n",
       "    <tr>\n",
       "      <th>0</th>\n",
       "      <td>2017-10-01 00:05:00</td>\n",
       "      <td>ZGHD</td>\n",
       "      <td>1014</td>\n",
       "      <td>593.321562</td>\n",
       "    </tr>\n",
       "    <tr>\n",
       "      <th>1</th>\n",
       "      <td>2017-10-01 00:15:00</td>\n",
       "      <td>ZGHD</td>\n",
       "      <td>1014</td>\n",
       "      <td>595.846258</td>\n",
       "    </tr>\n",
       "    <tr>\n",
       "      <th>2</th>\n",
       "      <td>2017-10-01 00:25:00</td>\n",
       "      <td>ZGHD</td>\n",
       "      <td>1014</td>\n",
       "      <td>595.845353</td>\n",
       "    </tr>\n",
       "    <tr>\n",
       "      <th>3</th>\n",
       "      <td>2017-10-01 00:45:00</td>\n",
       "      <td>ZGHD</td>\n",
       "      <td>1014</td>\n",
       "      <td>599.039129</td>\n",
       "    </tr>\n",
       "    <tr>\n",
       "      <th>4</th>\n",
       "      <td>2017-10-01 00:55:00</td>\n",
       "      <td>ZGHD</td>\n",
       "      <td>1014</td>\n",
       "      <td>594.996629</td>\n",
       "    </tr>\n",
       "  </tbody>\n",
       "</table>\n",
       "</div>"
      ],
      "text/plain": [
       "            timestamp LocationName  sensor         CO2\n",
       "0 2017-10-01 00:05:00         ZGHD    1014  593.321562\n",
       "1 2017-10-01 00:15:00         ZGHD    1014  595.846258\n",
       "2 2017-10-01 00:25:00         ZGHD    1014  595.845353\n",
       "3 2017-10-01 00:45:00         ZGHD    1014  599.039129\n",
       "4 2017-10-01 00:55:00         ZGHD    1014  594.996629"
      ]
     },
     "execution_count": 180,
     "metadata": {},
     "output_type": "execute_result"
    }
   ],
   "source": [
    "co2_measurements.head()"
   ]
  },
  {
   "cell_type": "code",
   "execution_count": 181,
   "metadata": {},
   "outputs": [
    {
     "data": {
      "text/plain": [
       "False"
      ]
     },
     "execution_count": 181,
     "metadata": {},
     "output_type": "execute_result"
    }
   ],
   "source": [
    "co2_measurements.isnull().any(None)"
   ]
  },
  {
   "cell_type": "code",
   "execution_count": 182,
   "metadata": {},
   "outputs": [],
   "source": [
    "co2_measurements['sensor'] = co2_measurements['sensor'].astype(int)"
   ]
  },
  {
   "cell_type": "code",
   "execution_count": 183,
   "metadata": {},
   "outputs": [],
   "source": [
    "def co2_measurements_resample(df):\n",
    "    res = df['CO2'].resample('30min').mean().to_frame()\n",
    "    # Some periods of 30min have 0 datapoints, therefore we need to interpolate\n",
    "    res = res.interpolate('linear', axis=0)\n",
    "    res['LocationName'] = df['LocationName'].values[0]\n",
    "    return res\n",
    "\n",
    "co2_measurements = co2_measurements.set_index('timestamp') \\\n",
    "                                    .groupby('sensor') \\\n",
    "                                    .apply(co2_measurements_resample)"
   ]
  },
  {
   "cell_type": "code",
   "execution_count": 185,
   "metadata": {},
   "outputs": [
    {
     "data": {
      "text/plain": [
       "False"
      ]
     },
     "execution_count": 185,
     "metadata": {},
     "output_type": "execute_result"
    }
   ],
   "source": [
    "co2_measurements.isnull().any(None)"
   ]
  },
  {
   "cell_type": "code",
   "execution_count": 186,
   "metadata": {},
   "outputs": [],
   "source": [
    "temp_humidity = pd.read_csv(\"../data/carbosense-raw/temperature_humidity.csv\",\n",
    "                            sep=\"\\t\",\n",
    "                            parse_dates=['Timestamp'])\n",
    "temp_humidity = temp_humidity.rename({'Timestamp':'timestamp'}, axis=1)"
   ]
  },
  {
   "cell_type": "code",
   "execution_count": 187,
   "metadata": {},
   "outputs": [
    {
     "data": {
      "text/html": [
       "<div>\n",
       "<style scoped>\n",
       "    .dataframe tbody tr th:only-of-type {\n",
       "        vertical-align: middle;\n",
       "    }\n",
       "\n",
       "    .dataframe tbody tr th {\n",
       "        vertical-align: top;\n",
       "    }\n",
       "\n",
       "    .dataframe thead th {\n",
       "        text-align: right;\n",
       "    }\n",
       "</style>\n",
       "<table border=\"1\" class=\"dataframe\">\n",
       "  <thead>\n",
       "    <tr style=\"text-align: right;\">\n",
       "      <th></th>\n",
       "      <th>timestamp</th>\n",
       "      <th>1014.temperature</th>\n",
       "      <th>1014.humidity</th>\n",
       "      <th>1015.temperature</th>\n",
       "      <th>1015.humidity</th>\n",
       "      <th>1016.temperature</th>\n",
       "      <th>1016.humidity</th>\n",
       "      <th>1017.temperature</th>\n",
       "      <th>1017.humidity</th>\n",
       "      <th>1018.temperature</th>\n",
       "      <th>...</th>\n",
       "      <th>1291.temperature</th>\n",
       "      <th>1291.humidity</th>\n",
       "      <th>1292.temperature</th>\n",
       "      <th>1292.humidity</th>\n",
       "      <th>1297.temperature</th>\n",
       "      <th>1297.humidity</th>\n",
       "      <th>1298.temperature</th>\n",
       "      <th>1298.humidity</th>\n",
       "      <th>1299.temperature</th>\n",
       "      <th>1299.humidity</th>\n",
       "    </tr>\n",
       "  </thead>\n",
       "  <tbody>\n",
       "    <tr>\n",
       "      <th>0</th>\n",
       "      <td>2017-10-01 00:00:00</td>\n",
       "      <td>11.39</td>\n",
       "      <td>92.262787</td>\n",
       "      <td>10.55</td>\n",
       "      <td>91.949982</td>\n",
       "      <td>11.02</td>\n",
       "      <td>92.613739</td>\n",
       "      <td>11.05</td>\n",
       "      <td>89.811844</td>\n",
       "      <td>11.38</td>\n",
       "      <td>...</td>\n",
       "      <td>10.13</td>\n",
       "      <td>96.828979</td>\n",
       "      <td>10.50</td>\n",
       "      <td>95.858139</td>\n",
       "      <td>10.70</td>\n",
       "      <td>94.524902</td>\n",
       "      <td>11.35</td>\n",
       "      <td>90.288681</td>\n",
       "      <td>11.44</td>\n",
       "      <td>90.118927</td>\n",
       "    </tr>\n",
       "    <tr>\n",
       "      <th>1</th>\n",
       "      <td>2017-10-01 00:10:00</td>\n",
       "      <td>11.39</td>\n",
       "      <td>92.579407</td>\n",
       "      <td>10.48</td>\n",
       "      <td>92.079681</td>\n",
       "      <td>11.04</td>\n",
       "      <td>93.063873</td>\n",
       "      <td>11.05</td>\n",
       "      <td>90.042633</td>\n",
       "      <td>11.38</td>\n",
       "      <td>...</td>\n",
       "      <td>10.12</td>\n",
       "      <td>97.322983</td>\n",
       "      <td>10.45</td>\n",
       "      <td>95.903915</td>\n",
       "      <td>10.53</td>\n",
       "      <td>94.395203</td>\n",
       "      <td>11.35</td>\n",
       "      <td>90.422195</td>\n",
       "      <td>11.46</td>\n",
       "      <td>90.073151</td>\n",
       "    </tr>\n",
       "    <tr>\n",
       "      <th>2</th>\n",
       "      <td>2017-10-01 00:20:00</td>\n",
       "      <td>11.41</td>\n",
       "      <td>92.480225</td>\n",
       "      <td>10.51</td>\n",
       "      <td>92.583221</td>\n",
       "      <td>11.06</td>\n",
       "      <td>93.201202</td>\n",
       "      <td>11.02</td>\n",
       "      <td>89.888138</td>\n",
       "      <td>11.35</td>\n",
       "      <td>...</td>\n",
       "      <td>10.14</td>\n",
       "      <td>97.780746</td>\n",
       "      <td>10.43</td>\n",
       "      <td>95.343155</td>\n",
       "      <td>10.45</td>\n",
       "      <td>94.620270</td>\n",
       "      <td>11.33</td>\n",
       "      <td>91.023010</td>\n",
       "      <td>11.41</td>\n",
       "      <td>89.466614</td>\n",
       "    </tr>\n",
       "    <tr>\n",
       "      <th>3</th>\n",
       "      <td>2017-10-01 00:30:00</td>\n",
       "      <td>11.35</td>\n",
       "      <td>91.902298</td>\n",
       "      <td>10.55</td>\n",
       "      <td>92.714828</td>\n",
       "      <td>11.02</td>\n",
       "      <td>92.932266</td>\n",
       "      <td>10.96</td>\n",
       "      <td>89.790863</td>\n",
       "      <td>11.31</td>\n",
       "      <td>...</td>\n",
       "      <td>10.13</td>\n",
       "      <td>97.904724</td>\n",
       "      <td>10.43</td>\n",
       "      <td>95.322174</td>\n",
       "      <td>10.42</td>\n",
       "      <td>94.973129</td>\n",
       "      <td>11.32</td>\n",
       "      <td>91.019196</td>\n",
       "      <td>11.39</td>\n",
       "      <td>89.249176</td>\n",
       "    </tr>\n",
       "    <tr>\n",
       "      <th>4</th>\n",
       "      <td>2017-10-01 00:40:00</td>\n",
       "      <td>11.30</td>\n",
       "      <td>91.639084</td>\n",
       "      <td>10.59</td>\n",
       "      <td>92.764420</td>\n",
       "      <td>10.99</td>\n",
       "      <td>92.598480</td>\n",
       "      <td>10.95</td>\n",
       "      <td>89.821381</td>\n",
       "      <td>11.27</td>\n",
       "      <td>...</td>\n",
       "      <td>10.13</td>\n",
       "      <td>97.931427</td>\n",
       "      <td>10.48</td>\n",
       "      <td>96.451324</td>\n",
       "      <td>10.46</td>\n",
       "      <td>95.282120</td>\n",
       "      <td>11.28</td>\n",
       "      <td>90.443176</td>\n",
       "      <td>11.31</td>\n",
       "      <td>88.871521</td>\n",
       "    </tr>\n",
       "  </tbody>\n",
       "</table>\n",
       "<p>5 rows × 93 columns</p>\n",
       "</div>"
      ],
      "text/plain": [
       "            timestamp  1014.temperature  1014.humidity  1015.temperature  \\\n",
       "0 2017-10-01 00:00:00             11.39      92.262787             10.55   \n",
       "1 2017-10-01 00:10:00             11.39      92.579407             10.48   \n",
       "2 2017-10-01 00:20:00             11.41      92.480225             10.51   \n",
       "3 2017-10-01 00:30:00             11.35      91.902298             10.55   \n",
       "4 2017-10-01 00:40:00             11.30      91.639084             10.59   \n",
       "\n",
       "   1015.humidity  1016.temperature  1016.humidity  1017.temperature  \\\n",
       "0      91.949982             11.02      92.613739             11.05   \n",
       "1      92.079681             11.04      93.063873             11.05   \n",
       "2      92.583221             11.06      93.201202             11.02   \n",
       "3      92.714828             11.02      92.932266             10.96   \n",
       "4      92.764420             10.99      92.598480             10.95   \n",
       "\n",
       "   1017.humidity  1018.temperature  ...  1291.temperature  1291.humidity  \\\n",
       "0      89.811844             11.38  ...             10.13      96.828979   \n",
       "1      90.042633             11.38  ...             10.12      97.322983   \n",
       "2      89.888138             11.35  ...             10.14      97.780746   \n",
       "3      89.790863             11.31  ...             10.13      97.904724   \n",
       "4      89.821381             11.27  ...             10.13      97.931427   \n",
       "\n",
       "   1292.temperature  1292.humidity  1297.temperature  1297.humidity  \\\n",
       "0             10.50      95.858139             10.70      94.524902   \n",
       "1             10.45      95.903915             10.53      94.395203   \n",
       "2             10.43      95.343155             10.45      94.620270   \n",
       "3             10.43      95.322174             10.42      94.973129   \n",
       "4             10.48      96.451324             10.46      95.282120   \n",
       "\n",
       "   1298.temperature  1298.humidity  1299.temperature  1299.humidity  \n",
       "0             11.35      90.288681             11.44      90.118927  \n",
       "1             11.35      90.422195             11.46      90.073151  \n",
       "2             11.33      91.023010             11.41      89.466614  \n",
       "3             11.32      91.019196             11.39      89.249176  \n",
       "4             11.28      90.443176             11.31      88.871521  \n",
       "\n",
       "[5 rows x 93 columns]"
      ]
     },
     "execution_count": 187,
     "metadata": {},
     "output_type": "execute_result"
    }
   ],
   "source": [
    "temp_humidity.head()"
   ]
  },
  {
   "cell_type": "code",
   "execution_count": 188,
   "metadata": {},
   "outputs": [],
   "source": [
    "temp_humidity = pd.melt(temp_humidity, id_vars='timestamp', var_name='sensor.temp_humidity', value_name='measurement')\n",
    "temp_humidity[['sensor','temp_humidity']] = temp_humidity['sensor.temp_humidity'].str.split('.', expand=True)\n",
    "temp_humidity = temp_humidity.pivot(index=['timestamp','sensor'], columns='temp_humidity', values='measurement').reset_index()"
   ]
  },
  {
   "cell_type": "code",
   "execution_count": 189,
   "metadata": {},
   "outputs": [
    {
     "data": {
      "text/html": [
       "<div>\n",
       "<style scoped>\n",
       "    .dataframe tbody tr th:only-of-type {\n",
       "        vertical-align: middle;\n",
       "    }\n",
       "\n",
       "    .dataframe tbody tr th {\n",
       "        vertical-align: top;\n",
       "    }\n",
       "\n",
       "    .dataframe thead th {\n",
       "        text-align: right;\n",
       "    }\n",
       "</style>\n",
       "<table border=\"1\" class=\"dataframe\">\n",
       "  <thead>\n",
       "    <tr style=\"text-align: right;\">\n",
       "      <th>temp_humidity</th>\n",
       "      <th>timestamp</th>\n",
       "      <th>sensor</th>\n",
       "      <th>humidity</th>\n",
       "      <th>temperature</th>\n",
       "    </tr>\n",
       "  </thead>\n",
       "  <tbody>\n",
       "    <tr>\n",
       "      <th>0</th>\n",
       "      <td>2017-10-01 00:00:00</td>\n",
       "      <td>1014</td>\n",
       "      <td>92.262787</td>\n",
       "      <td>11.39</td>\n",
       "    </tr>\n",
       "    <tr>\n",
       "      <th>1</th>\n",
       "      <td>2017-10-01 00:00:00</td>\n",
       "      <td>1015</td>\n",
       "      <td>91.949982</td>\n",
       "      <td>10.55</td>\n",
       "    </tr>\n",
       "    <tr>\n",
       "      <th>2</th>\n",
       "      <td>2017-10-01 00:00:00</td>\n",
       "      <td>1016</td>\n",
       "      <td>92.613739</td>\n",
       "      <td>11.02</td>\n",
       "    </tr>\n",
       "    <tr>\n",
       "      <th>3</th>\n",
       "      <td>2017-10-01 00:00:00</td>\n",
       "      <td>1017</td>\n",
       "      <td>89.811844</td>\n",
       "      <td>11.05</td>\n",
       "    </tr>\n",
       "    <tr>\n",
       "      <th>4</th>\n",
       "      <td>2017-10-01 00:00:00</td>\n",
       "      <td>1018</td>\n",
       "      <td>91.427368</td>\n",
       "      <td>11.38</td>\n",
       "    </tr>\n",
       "    <tr>\n",
       "      <th>...</th>\n",
       "      <td>...</td>\n",
       "      <td>...</td>\n",
       "      <td>...</td>\n",
       "      <td>...</td>\n",
       "    </tr>\n",
       "    <tr>\n",
       "      <th>205339</th>\n",
       "      <td>2017-10-31 23:50:00</td>\n",
       "      <td>1291</td>\n",
       "      <td>94.849152</td>\n",
       "      <td>1.96</td>\n",
       "    </tr>\n",
       "    <tr>\n",
       "      <th>205340</th>\n",
       "      <td>2017-10-31 23:50:00</td>\n",
       "      <td>1292</td>\n",
       "      <td>96.170944</td>\n",
       "      <td>-0.54</td>\n",
       "    </tr>\n",
       "    <tr>\n",
       "      <th>205341</th>\n",
       "      <td>2017-10-31 23:50:00</td>\n",
       "      <td>1297</td>\n",
       "      <td>94.997925</td>\n",
       "      <td>0.05</td>\n",
       "    </tr>\n",
       "    <tr>\n",
       "      <th>205342</th>\n",
       "      <td>2017-10-31 23:50:00</td>\n",
       "      <td>1298</td>\n",
       "      <td>83.046478</td>\n",
       "      <td>2.82</td>\n",
       "    </tr>\n",
       "    <tr>\n",
       "      <th>205343</th>\n",
       "      <td>2017-10-31 23:50:00</td>\n",
       "      <td>1299</td>\n",
       "      <td>82.041306</td>\n",
       "      <td>3.22</td>\n",
       "    </tr>\n",
       "  </tbody>\n",
       "</table>\n",
       "<p>205344 rows × 4 columns</p>\n",
       "</div>"
      ],
      "text/plain": [
       "temp_humidity           timestamp sensor   humidity  temperature\n",
       "0             2017-10-01 00:00:00   1014  92.262787        11.39\n",
       "1             2017-10-01 00:00:00   1015  91.949982        10.55\n",
       "2             2017-10-01 00:00:00   1016  92.613739        11.02\n",
       "3             2017-10-01 00:00:00   1017  89.811844        11.05\n",
       "4             2017-10-01 00:00:00   1018  91.427368        11.38\n",
       "...                           ...    ...        ...          ...\n",
       "205339        2017-10-31 23:50:00   1291  94.849152         1.96\n",
       "205340        2017-10-31 23:50:00   1292  96.170944        -0.54\n",
       "205341        2017-10-31 23:50:00   1297  94.997925         0.05\n",
       "205342        2017-10-31 23:50:00   1298  83.046478         2.82\n",
       "205343        2017-10-31 23:50:00   1299  82.041306         3.22\n",
       "\n",
       "[205344 rows x 4 columns]"
      ]
     },
     "execution_count": 189,
     "metadata": {},
     "output_type": "execute_result"
    }
   ],
   "source": [
    "temp_humidity"
   ]
  },
  {
   "cell_type": "code",
   "execution_count": 190,
   "metadata": {},
   "outputs": [],
   "source": [
    "temp_humidity['sensor'] = temp_humidity['sensor'].astype(int)"
   ]
  },
  {
   "cell_type": "code",
   "execution_count": 191,
   "metadata": {},
   "outputs": [
    {
     "data": {
      "text/plain": [
       "True"
      ]
     },
     "execution_count": 191,
     "metadata": {},
     "output_type": "execute_result"
    }
   ],
   "source": [
    "temp_humidity.isnull().any(None)"
   ]
  },
  {
   "cell_type": "code",
   "execution_count": 192,
   "metadata": {},
   "outputs": [],
   "source": [
    "temp_humidity= temp_humidity.set_index('timestamp') \\\n",
    "                             .groupby('sensor') \\\n",
    "                             .apply(lambda df: df[['temperature', 'humidity']]\n",
    "                                               .interpolate('linear', axis=0) \\\n",
    "                                               .resample('30min').mean())"
   ]
  },
  {
   "cell_type": "code",
   "execution_count": 193,
   "metadata": {},
   "outputs": [
    {
     "data": {
      "text/plain": [
       "False"
      ]
     },
     "execution_count": 193,
     "metadata": {},
     "output_type": "execute_result"
    }
   ],
   "source": [
    "temp_humidity.isnull().any(None)"
   ]
  },
  {
   "cell_type": "code",
   "execution_count": 194,
   "metadata": {},
   "outputs": [
    {
     "data": {
      "text/html": [
       "<div>\n",
       "<style scoped>\n",
       "    .dataframe tbody tr th:only-of-type {\n",
       "        vertical-align: middle;\n",
       "    }\n",
       "\n",
       "    .dataframe tbody tr th {\n",
       "        vertical-align: top;\n",
       "    }\n",
       "\n",
       "    .dataframe thead th {\n",
       "        text-align: right;\n",
       "    }\n",
       "</style>\n",
       "<table border=\"1\" class=\"dataframe\">\n",
       "  <thead>\n",
       "    <tr style=\"text-align: right;\">\n",
       "      <th></th>\n",
       "      <th>temp_humidity</th>\n",
       "      <th>temperature</th>\n",
       "      <th>humidity</th>\n",
       "    </tr>\n",
       "    <tr>\n",
       "      <th>sensor</th>\n",
       "      <th>timestamp</th>\n",
       "      <th></th>\n",
       "      <th></th>\n",
       "    </tr>\n",
       "  </thead>\n",
       "  <tbody>\n",
       "    <tr>\n",
       "      <th rowspan=\"5\" valign=\"top\">1014</th>\n",
       "      <th>2017-10-01 00:00:00</th>\n",
       "      <td>11.396667</td>\n",
       "      <td>92.440806</td>\n",
       "    </tr>\n",
       "    <tr>\n",
       "      <th>2017-10-01 00:30:00</th>\n",
       "      <td>11.303333</td>\n",
       "      <td>91.625097</td>\n",
       "    </tr>\n",
       "    <tr>\n",
       "      <th>2017-10-01 01:00:00</th>\n",
       "      <td>11.240000</td>\n",
       "      <td>91.096761</td>\n",
       "    </tr>\n",
       "    <tr>\n",
       "      <th>2017-10-01 01:30:00</th>\n",
       "      <td>11.260000</td>\n",
       "      <td>91.275734</td>\n",
       "    </tr>\n",
       "    <tr>\n",
       "      <th>2017-10-01 02:00:00</th>\n",
       "      <td>11.285000</td>\n",
       "      <td>91.003937</td>\n",
       "    </tr>\n",
       "    <tr>\n",
       "      <th>...</th>\n",
       "      <th>...</th>\n",
       "      <td>...</td>\n",
       "      <td>...</td>\n",
       "    </tr>\n",
       "    <tr>\n",
       "      <th rowspan=\"5\" valign=\"top\">1299</th>\n",
       "      <th>2017-10-31 21:30:00</th>\n",
       "      <td>3.923333</td>\n",
       "      <td>78.965388</td>\n",
       "    </tr>\n",
       "    <tr>\n",
       "      <th>2017-10-31 22:00:00</th>\n",
       "      <td>3.766667</td>\n",
       "      <td>79.702896</td>\n",
       "    </tr>\n",
       "    <tr>\n",
       "      <th>2017-10-31 22:30:00</th>\n",
       "      <td>3.493333</td>\n",
       "      <td>80.769740</td>\n",
       "    </tr>\n",
       "    <tr>\n",
       "      <th>2017-10-31 23:00:00</th>\n",
       "      <td>3.373333</td>\n",
       "      <td>81.676366</td>\n",
       "    </tr>\n",
       "    <tr>\n",
       "      <th>2017-10-31 23:30:00</th>\n",
       "      <td>3.286667</td>\n",
       "      <td>81.910970</td>\n",
       "    </tr>\n",
       "  </tbody>\n",
       "</table>\n",
       "<p>68448 rows × 2 columns</p>\n",
       "</div>"
      ],
      "text/plain": [
       "temp_humidity               temperature   humidity\n",
       "sensor timestamp                                  \n",
       "1014   2017-10-01 00:00:00    11.396667  92.440806\n",
       "       2017-10-01 00:30:00    11.303333  91.625097\n",
       "       2017-10-01 01:00:00    11.240000  91.096761\n",
       "       2017-10-01 01:30:00    11.260000  91.275734\n",
       "       2017-10-01 02:00:00    11.285000  91.003937\n",
       "...                                 ...        ...\n",
       "1299   2017-10-31 21:30:00     3.923333  78.965388\n",
       "       2017-10-31 22:00:00     3.766667  79.702896\n",
       "       2017-10-31 22:30:00     3.493333  80.769740\n",
       "       2017-10-31 23:00:00     3.373333  81.676366\n",
       "       2017-10-31 23:30:00     3.286667  81.910970\n",
       "\n",
       "[68448 rows x 2 columns]"
      ]
     },
     "execution_count": 194,
     "metadata": {},
     "output_type": "execute_result"
    }
   ],
   "source": [
    "temp_humidity"
   ]
  },
  {
   "cell_type": "code",
   "execution_count": 195,
   "metadata": {},
   "outputs": [
    {
     "data": {
      "text/html": [
       "<div>\n",
       "<style scoped>\n",
       "    .dataframe tbody tr th:only-of-type {\n",
       "        vertical-align: middle;\n",
       "    }\n",
       "\n",
       "    .dataframe tbody tr th {\n",
       "        vertical-align: top;\n",
       "    }\n",
       "\n",
       "    .dataframe thead th {\n",
       "        text-align: right;\n",
       "    }\n",
       "</style>\n",
       "<table border=\"1\" class=\"dataframe\">\n",
       "  <thead>\n",
       "    <tr style=\"text-align: right;\">\n",
       "      <th></th>\n",
       "      <th>LocationName</th>\n",
       "      <th>zone</th>\n",
       "      <th>altitude</th>\n",
       "      <th>lat</th>\n",
       "      <th>lon</th>\n",
       "    </tr>\n",
       "  </thead>\n",
       "  <tbody>\n",
       "    <tr>\n",
       "      <th>0</th>\n",
       "      <td>AJGR</td>\n",
       "      <td>2</td>\n",
       "      <td>627.8</td>\n",
       "      <td>47.33321</td>\n",
       "      <td>8.480300</td>\n",
       "    </tr>\n",
       "    <tr>\n",
       "      <th>1</th>\n",
       "      <td>BSCR</td>\n",
       "      <td>2</td>\n",
       "      <td>462.3</td>\n",
       "      <td>47.35581</td>\n",
       "      <td>8.430070</td>\n",
       "    </tr>\n",
       "    <tr>\n",
       "      <th>2</th>\n",
       "      <td>BUDF</td>\n",
       "      <td>10</td>\n",
       "      <td>490.2</td>\n",
       "      <td>47.36270</td>\n",
       "      <td>8.433110</td>\n",
       "    </tr>\n",
       "    <tr>\n",
       "      <th>3</th>\n",
       "      <td>KBRL</td>\n",
       "      <td>7</td>\n",
       "      <td>510.5</td>\n",
       "      <td>47.32582</td>\n",
       "      <td>8.537550</td>\n",
       "    </tr>\n",
       "    <tr>\n",
       "      <th>4</th>\n",
       "      <td>KTGM</td>\n",
       "      <td>2</td>\n",
       "      <td>530.3</td>\n",
       "      <td>47.32334</td>\n",
       "      <td>8.596422</td>\n",
       "    </tr>\n",
       "  </tbody>\n",
       "</table>\n",
       "</div>"
      ],
      "text/plain": [
       "  LocationName  zone  altitude       lat       lon\n",
       "0         AJGR     2     627.8  47.33321  8.480300\n",
       "1         BSCR     2     462.3  47.35581  8.430070\n",
       "2         BUDF    10     490.2  47.36270  8.433110\n",
       "3         KBRL     7     510.5  47.32582  8.537550\n",
       "4         KTGM     2     530.3  47.32334  8.596422"
      ]
     },
     "execution_count": 195,
     "metadata": {},
     "output_type": "execute_result"
    }
   ],
   "source": [
    "metadata = pd.read_csv(\"../data/carbosense-raw/sensors_metadata.csv\", sep=\"\\t\")\n",
    "metadata.head()"
   ]
  },
  {
   "cell_type": "code",
   "execution_count": 196,
   "metadata": {},
   "outputs": [],
   "source": [
    "temp_humidity = temp_humidity.reset_index()\n",
    "co2_measurements = co2_measurements.reset_index()\n",
    "final_df = pd.merge(temp_humidity, co2_measurements, how='inner', right_on=['sensor','timestamp'], left_on=['sensor','timestamp'])"
   ]
  },
  {
   "cell_type": "code",
   "execution_count": 197,
   "metadata": {},
   "outputs": [],
   "source": [
    "final_df = pd.merge(final_df, metadata, left_on='LocationName', right_on='LocationName', validate='m:1')"
   ]
  },
  {
   "cell_type": "code",
   "execution_count": 198,
   "metadata": {},
   "outputs": [
    {
     "data": {
      "text/plain": [
       "False"
      ]
     },
     "execution_count": 198,
     "metadata": {},
     "output_type": "execute_result"
    }
   ],
   "source": [
    "final_df.isnull().any(None)"
   ]
  },
  {
   "cell_type": "code",
   "execution_count": 200,
   "metadata": {},
   "outputs": [],
   "source": [
    "final_df = final_df.set_index('timestamp')"
   ]
  },
  {
   "cell_type": "code",
   "execution_count": 201,
   "metadata": {},
   "outputs": [
    {
     "data": {
      "text/html": [
       "<div>\n",
       "<style scoped>\n",
       "    .dataframe tbody tr th:only-of-type {\n",
       "        vertical-align: middle;\n",
       "    }\n",
       "\n",
       "    .dataframe tbody tr th {\n",
       "        vertical-align: top;\n",
       "    }\n",
       "\n",
       "    .dataframe thead th {\n",
       "        text-align: right;\n",
       "    }\n",
       "</style>\n",
       "<table border=\"1\" class=\"dataframe\">\n",
       "  <thead>\n",
       "    <tr style=\"text-align: right;\">\n",
       "      <th></th>\n",
       "      <th>sensor</th>\n",
       "      <th>temperature</th>\n",
       "      <th>humidity</th>\n",
       "      <th>CO2</th>\n",
       "      <th>LocationName</th>\n",
       "      <th>zone</th>\n",
       "      <th>altitude</th>\n",
       "      <th>lat</th>\n",
       "      <th>lon</th>\n",
       "    </tr>\n",
       "    <tr>\n",
       "      <th>timestamp</th>\n",
       "      <th></th>\n",
       "      <th></th>\n",
       "      <th></th>\n",
       "      <th></th>\n",
       "      <th></th>\n",
       "      <th></th>\n",
       "      <th></th>\n",
       "      <th></th>\n",
       "      <th></th>\n",
       "    </tr>\n",
       "  </thead>\n",
       "  <tbody>\n",
       "    <tr>\n",
       "      <th>2017-10-01 00:00:00</th>\n",
       "      <td>1014</td>\n",
       "      <td>11.396667</td>\n",
       "      <td>92.440806</td>\n",
       "      <td>595.004391</td>\n",
       "      <td>ZGHD</td>\n",
       "      <td>2</td>\n",
       "      <td>413.5</td>\n",
       "      <td>47.370446</td>\n",
       "      <td>8.523256</td>\n",
       "    </tr>\n",
       "    <tr>\n",
       "      <th>2017-10-01 00:30:00</th>\n",
       "      <td>1014</td>\n",
       "      <td>11.303333</td>\n",
       "      <td>91.625097</td>\n",
       "      <td>597.017879</td>\n",
       "      <td>ZGHD</td>\n",
       "      <td>2</td>\n",
       "      <td>413.5</td>\n",
       "      <td>47.370446</td>\n",
       "      <td>8.523256</td>\n",
       "    </tr>\n",
       "    <tr>\n",
       "      <th>2017-10-01 01:00:00</th>\n",
       "      <td>1014</td>\n",
       "      <td>11.240000</td>\n",
       "      <td>91.096761</td>\n",
       "      <td>596.487010</td>\n",
       "      <td>ZGHD</td>\n",
       "      <td>2</td>\n",
       "      <td>413.5</td>\n",
       "      <td>47.370446</td>\n",
       "      <td>8.523256</td>\n",
       "    </tr>\n",
       "    <tr>\n",
       "      <th>2017-10-01 01:30:00</th>\n",
       "      <td>1014</td>\n",
       "      <td>11.260000</td>\n",
       "      <td>91.275734</td>\n",
       "      <td>598.787639</td>\n",
       "      <td>ZGHD</td>\n",
       "      <td>2</td>\n",
       "      <td>413.5</td>\n",
       "      <td>47.370446</td>\n",
       "      <td>8.523256</td>\n",
       "    </tr>\n",
       "    <tr>\n",
       "      <th>2017-10-01 02:00:00</th>\n",
       "      <td>1014</td>\n",
       "      <td>11.285000</td>\n",
       "      <td>91.003937</td>\n",
       "      <td>595.366394</td>\n",
       "      <td>ZGHD</td>\n",
       "      <td>2</td>\n",
       "      <td>413.5</td>\n",
       "      <td>47.370446</td>\n",
       "      <td>8.523256</td>\n",
       "    </tr>\n",
       "    <tr>\n",
       "      <th>...</th>\n",
       "      <td>...</td>\n",
       "      <td>...</td>\n",
       "      <td>...</td>\n",
       "      <td>...</td>\n",
       "      <td>...</td>\n",
       "      <td>...</td>\n",
       "      <td>...</td>\n",
       "      <td>...</td>\n",
       "      <td>...</td>\n",
       "    </tr>\n",
       "    <tr>\n",
       "      <th>2017-10-31 21:30:00</th>\n",
       "      <td>1299</td>\n",
       "      <td>3.923333</td>\n",
       "      <td>78.965388</td>\n",
       "      <td>477.307329</td>\n",
       "      <td>ZLDW</td>\n",
       "      <td>5</td>\n",
       "      <td>405.9</td>\n",
       "      <td>47.348870</td>\n",
       "      <td>8.536290</td>\n",
       "    </tr>\n",
       "    <tr>\n",
       "      <th>2017-10-31 22:00:00</th>\n",
       "      <td>1299</td>\n",
       "      <td>3.766667</td>\n",
       "      <td>79.702896</td>\n",
       "      <td>474.396830</td>\n",
       "      <td>ZLDW</td>\n",
       "      <td>5</td>\n",
       "      <td>405.9</td>\n",
       "      <td>47.348870</td>\n",
       "      <td>8.536290</td>\n",
       "    </tr>\n",
       "    <tr>\n",
       "      <th>2017-10-31 22:30:00</th>\n",
       "      <td>1299</td>\n",
       "      <td>3.493333</td>\n",
       "      <td>80.769740</td>\n",
       "      <td>474.406102</td>\n",
       "      <td>ZLDW</td>\n",
       "      <td>5</td>\n",
       "      <td>405.9</td>\n",
       "      <td>47.348870</td>\n",
       "      <td>8.536290</td>\n",
       "    </tr>\n",
       "    <tr>\n",
       "      <th>2017-10-31 23:00:00</th>\n",
       "      <td>1299</td>\n",
       "      <td>3.373333</td>\n",
       "      <td>81.676366</td>\n",
       "      <td>477.910252</td>\n",
       "      <td>ZLDW</td>\n",
       "      <td>5</td>\n",
       "      <td>405.9</td>\n",
       "      <td>47.348870</td>\n",
       "      <td>8.536290</td>\n",
       "    </tr>\n",
       "    <tr>\n",
       "      <th>2017-10-31 23:30:00</th>\n",
       "      <td>1299</td>\n",
       "      <td>3.286667</td>\n",
       "      <td>81.910970</td>\n",
       "      <td>471.881151</td>\n",
       "      <td>ZLDW</td>\n",
       "      <td>5</td>\n",
       "      <td>405.9</td>\n",
       "      <td>47.348870</td>\n",
       "      <td>8.536290</td>\n",
       "    </tr>\n",
       "  </tbody>\n",
       "</table>\n",
       "<p>66667 rows × 9 columns</p>\n",
       "</div>"
      ],
      "text/plain": [
       "                     sensor  temperature   humidity         CO2 LocationName  \\\n",
       "timestamp                                                                      \n",
       "2017-10-01 00:00:00    1014    11.396667  92.440806  595.004391         ZGHD   \n",
       "2017-10-01 00:30:00    1014    11.303333  91.625097  597.017879         ZGHD   \n",
       "2017-10-01 01:00:00    1014    11.240000  91.096761  596.487010         ZGHD   \n",
       "2017-10-01 01:30:00    1014    11.260000  91.275734  598.787639         ZGHD   \n",
       "2017-10-01 02:00:00    1014    11.285000  91.003937  595.366394         ZGHD   \n",
       "...                     ...          ...        ...         ...          ...   \n",
       "2017-10-31 21:30:00    1299     3.923333  78.965388  477.307329         ZLDW   \n",
       "2017-10-31 22:00:00    1299     3.766667  79.702896  474.396830         ZLDW   \n",
       "2017-10-31 22:30:00    1299     3.493333  80.769740  474.406102         ZLDW   \n",
       "2017-10-31 23:00:00    1299     3.373333  81.676366  477.910252         ZLDW   \n",
       "2017-10-31 23:30:00    1299     3.286667  81.910970  471.881151         ZLDW   \n",
       "\n",
       "                     zone  altitude        lat       lon  \n",
       "timestamp                                                 \n",
       "2017-10-01 00:00:00     2     413.5  47.370446  8.523256  \n",
       "2017-10-01 00:30:00     2     413.5  47.370446  8.523256  \n",
       "2017-10-01 01:00:00     2     413.5  47.370446  8.523256  \n",
       "2017-10-01 01:30:00     2     413.5  47.370446  8.523256  \n",
       "2017-10-01 02:00:00     2     413.5  47.370446  8.523256  \n",
       "...                   ...       ...        ...       ...  \n",
       "2017-10-31 21:30:00     5     405.9  47.348870  8.536290  \n",
       "2017-10-31 22:00:00     5     405.9  47.348870  8.536290  \n",
       "2017-10-31 22:30:00     5     405.9  47.348870  8.536290  \n",
       "2017-10-31 23:00:00     5     405.9  47.348870  8.536290  \n",
       "2017-10-31 23:30:00     5     405.9  47.348870  8.536290  \n",
       "\n",
       "[66667 rows x 9 columns]"
      ]
     },
     "execution_count": 201,
     "metadata": {},
     "output_type": "execute_result"
    }
   ],
   "source": [
    "final_df"
   ]
  },
  {
   "cell_type": "markdown",
   "metadata": {},
   "source": [
    "### b) **2/10** \n",
    "\n",
    "Export the curated and ready to use timeseries to a csv file, and properly push the merged csv to Git LFS."
   ]
  },
  {
   "cell_type": "code",
   "execution_count": 204,
   "metadata": {},
   "outputs": [
    {
     "name": "stdout",
     "output_type": "stream",
     "text": [
      "data/carbosense-raw/temperature_humidity.csv filter=lfs diff=lfs merge=lfs -text\n",
      "data/carbosense-raw/CO2_sensor_measurements.csv filter=lfs diff=lfs merge=lfs -text\n"
     ]
    }
   ],
   "source": [
    "!cat ../.gitattributes"
   ]
  },
  {
   "cell_type": "code",
   "execution_count": 210,
   "metadata": {},
   "outputs": [],
   "source": [
    "save_path = 'data/carbosense-raw/final_df.csv'"
   ]
  },
  {
   "cell_type": "code",
   "execution_count": 212,
   "metadata": {},
   "outputs": [
    {
     "name": "stdout",
     "output_type": "stream",
     "text": [
      "Tracking \"data/carbosense-raw/final_df.csv\"\n"
     ]
    }
   ],
   "source": [
    "!git lfs track data/carbosense-raw/final_df.csv"
   ]
  },
  {
   "cell_type": "code",
   "execution_count": 213,
   "metadata": {},
   "outputs": [],
   "source": [
    "final_df.to_csv(os.path.join('..', save_path), sep='\\t')"
   ]
  },
  {
   "cell_type": "code",
   "execution_count": 216,
   "metadata": {},
   "outputs": [
    {
     "name": "stdout",
     "output_type": "stream",
     "text": [
      "Locking support detected on remote \"origin\". Consider enabling it with:\n",
      "  $ git config lfs.https://dslab2021-renku.epfl.ch/gitlab/akak/homework1.git/info/lfs.locksverify true\n"
     ]
    }
   ],
   "source": []
  },
  {
   "cell_type": "markdown",
   "metadata": {},
   "source": [
    "## PART II: Data visualization (15 points)"
   ]
  },
  {
   "cell_type": "markdown",
   "metadata": {},
   "source": [
    "### a) **5/15** \n",
    "Group the sites based on their altitude, by performing K-means clustering. \n",
    "- Find the optimal number of clusters using the [Elbow method](https://en.wikipedia.org/wiki/Elbow_method_(clustering)). \n",
    "- Wite out the formula of metric you use for Elbow curve. \n",
    "- Perform clustering with the optimal number of clusters and add an additional column `altitude_cluster` to the dataframe of the previous question indicating the altitude cluster index. \n",
    "- Report your findings.\n",
    "\n",
    "__Note__: [Yellowbrick](http://www.scikit-yb.org/) is a very nice Machine Learning Visualization extension to scikit-learn, which might be useful to you. "
   ]
  },
  {
   "cell_type": "code",
   "execution_count": null,
   "metadata": {},
   "outputs": [],
   "source": []
  },
  {
   "cell_type": "markdown",
   "metadata": {},
   "source": [
    "### b) **4/15** \n",
    "\n",
    "Use `plotly` (or other similar graphing libraries) to create an interactive plot of the monthly median CO2 measurement for each site with respect to the altitude. \n",
    "\n",
    "Add proper title and necessary hover information to each point, and give the same color to stations that belong to the same altitude cluster."
   ]
  },
  {
   "cell_type": "code",
   "execution_count": null,
   "metadata": {},
   "outputs": [],
   "source": []
  },
  {
   "cell_type": "markdown",
   "metadata": {},
   "source": [
    "### c) **6/15**\n",
    "\n",
    "Use `plotly` (or other similar graphing libraries) to plot an interactive time-varying density heatmap of the mean daily CO2 concentration for all the stations. Add proper title and necessary hover information.\n",
    "\n",
    "__Hints:__ Check following pages for more instructions:\n",
    "- [Animations](https://plotly.com/python/animations/)\n",
    "- [Density Heatmaps](https://plotly.com/python/mapbox-density-heatmaps/)"
   ]
  },
  {
   "cell_type": "code",
   "execution_count": null,
   "metadata": {},
   "outputs": [],
   "source": []
  },
  {
   "cell_type": "markdown",
   "metadata": {},
   "source": [
    "## PART III: Model fitting for data curation (35 points)"
   ]
  },
  {
   "cell_type": "markdown",
   "metadata": {},
   "source": [
    "### a) **2/35**\n",
    "\n",
    "The domain experts in charge of these sensors report that one of the CO2 sensors `ZSBN` is exhibiting a drift on Oct. 24. Verify the drift by visualizing the CO2 concentration of the drifting sensor and compare it with some other sensors from the network. "
   ]
  },
  {
   "cell_type": "code",
   "execution_count": null,
   "metadata": {},
   "outputs": [],
   "source": []
  },
  {
   "cell_type": "markdown",
   "metadata": {},
   "source": [
    "### b) **8/35**\n",
    "\n",
    "The domain experts ask you if you could reconstruct the CO2 concentration of the drifting sensor had the drift not happened. You decide to:\n",
    "- Fit a linear regression model to the CO2 measurements of the site, by considering as features the covariates not affected by the malfunction (such as temperature and humidity)\n",
    "- Create an interactive plot with `plotly` (or other similar graphing libraries):\n",
    "    - the actual CO2 measurements\n",
    "    - the values obtained by the prediction of the linear model for the entire month of October\n",
    "    - the __confidence interval__ obtained from cross validation\n",
    "- What do you observe? Report your findings.\n",
    "\n",
    "__Note:__ Cross validation on time series is different from that on other kinds of datasets. The following diagram illustrates the series of training sets (in orange) and validation sets (in blue). For more on time series cross validation, there are a lot of interesting articles available online. scikit-learn provides a nice method [`sklearn.model_selection.TimeSeriesSplit`](https://scikit-learn.org/stable/modules/generated/sklearn.model_selection.TimeSeriesSplit.html).\n",
    "\n",
    "![ts_cv](https://player.slideplayer.com/86/14062041/slides/slide_28.jpg)"
   ]
  },
  {
   "cell_type": "code",
   "execution_count": null,
   "metadata": {},
   "outputs": [],
   "source": []
  },
  {
   "cell_type": "markdown",
   "metadata": {},
   "source": [
    "### c) **10/35**\n",
    "\n",
    "In your next attempt to solve the problem, you decide to exploit the fact that the CO2 concentrations, as measured by the sensors __experiencing similar conditions__, are expected to be similar.\n",
    "\n",
    "- Find the sensors sharing similar conditions with `ZSBN`. Explain your definition of \"similar condition\".\n",
    "- Fit a linear regression model to the CO2 measurements of the site, by considering as features:\n",
    "    - the information of provided by similar sensors\n",
    "    - the covariates associated with the faulty sensors that were not affected by the malfunction (such as temperature and humidity).\n",
    "- Create an interactive plot with `plotly` (or other similar graphing libraries):\n",
    "    - the actual CO2 measurements\n",
    "    - the values obtained by the prediction of the linear model for the entire month of October\n",
    "    - the __confidence interval__ obtained from cross validation\n",
    "- What do you observe? Report your findings."
   ]
  },
  {
   "cell_type": "code",
   "execution_count": null,
   "metadata": {},
   "outputs": [],
   "source": []
  },
  {
   "cell_type": "markdown",
   "metadata": {},
   "source": [
    "### d) **10/35**\n",
    "\n",
    "Now, instead of feeding the model with all features, you want to do something smarter by using linear regression with fewer features.\n",
    "\n",
    "- Start with the same sensors and features as in question c)\n",
    "- Leverage at least two different feature selection methods\n",
    "- Create similar interactive plot as in question c)\n",
    "- Describe the methods you choose and report your findings"
   ]
  },
  {
   "cell_type": "code",
   "execution_count": null,
   "metadata": {},
   "outputs": [],
   "source": []
  },
  {
   "cell_type": "markdown",
   "metadata": {},
   "source": [
    "### e) **5/35**\n",
    "\n",
    "Eventually, you'd like to try something new - __Bayesian Structural Time Series Modelling__ - to reconstruct counterfactual values, that is, what the CO2 measurements of the faulty sensor should have been, had the malfunction not happened on October 24. You will use:\n",
    "- the information of provided by similar sensors - the ones you identified in question c)\n",
    "- the covariates associated with the faulty sensors that were not affected by the malfunction (such as temperature and humidity).\n",
    "\n",
    "To answer this question, you can choose between a Python port of the CausalImpact package (such as https://github.com/dafiti/causalimpact) or the original R version (https://google.github.io/CausalImpact/CausalImpact.html) that you can run in your notebook via an R kernel (https://github.com/IRkernel/IRkernel).\n",
    "\n",
    "Before you start, watch first the [presentation](https://www.youtube.com/watch?v=GTgZfCltMm8) given by Kay Brodersen (one of the creators of the causal impact implementation in R), and this introductory [ipython notebook](http://nbviewer.jupyter.org/github/dafiti/causalimpact/blob/master/examples/getting_started.ipynb) with examples of how to use the python package.\n",
    "\n",
    "- Report your findings:\n",
    "    - Is the counterfactual reconstruction of CO2 measurements significantly different from the observed measurements?\n",
    "    - Can you try to explain the results?"
   ]
  },
  {
   "cell_type": "code",
   "execution_count": null,
   "metadata": {},
   "outputs": [],
   "source": []
  },
  {
   "cell_type": "markdown",
   "metadata": {},
   "source": [
    "# That's all, folks!"
   ]
  }
 ],
 "metadata": {
  "anaconda-cloud": {},
  "kernelspec": {
   "display_name": "Python 3",
   "language": "python",
   "name": "python3"
  },
  "language_info": {
   "codemirror_mode": {
    "name": "ipython",
    "version": 3
   },
   "file_extension": ".py",
   "mimetype": "text/x-python",
   "name": "python",
   "nbconvert_exporter": "python",
   "pygments_lexer": "ipython3",
   "version": "3.7.6"
  }
 },
 "nbformat": 4,
 "nbformat_minor": 4
}
