{
 "cells": [
  {
   "cell_type": "markdown",
   "metadata": {},
   "source": [
    "# DSLab Homework 1 - Data Science with CO2\n",
    "\n",
    "## Hand-in Instructions\n",
    "\n",
    "- __Due: 23.03.2021 23h59 CET__\n",
    "- `git push` your final verion to the master branch of your group's Renku repository before the due\n",
    "- check if `Dockerfile`, `environment.yml` and `requirements.txt` are properly written\n",
    "- add necessary comments and discussion to make your codes readable"
   ]
  },
  {
   "cell_type": "markdown",
   "metadata": {},
   "source": [
    "## Carbosense\n",
    "\n",
    "The project Carbosense establishes a uniquely dense CO2 sensor network across Switzerland to provide near-real time information on man-made emissions and CO2 uptake by the biosphere. The main goal of the project is to improve the understanding of the small-scale CO2 fluxes in Switzerland and concurrently to contribute to a better top-down quantification of the Swiss CO2 emissions. The Carbosense network has a spatial focus on the City of Zurich where more than 50 sensors are deployed. Network operations started in July 2017.\n",
    "\n",
    "<img src=\"http://carbosense.wdfiles.com/local--files/main:project/CarboSense_MAP_20191113_LowRes.jpg\" width=\"500\">\n",
    "\n",
    "<img src=\"http://carbosense.wdfiles.com/local--files/main:sensors/LP8_ZLMT_3.JPG\" width=\"156\">  <img src=\"http://carbosense.wdfiles.com/local--files/main:sensors/LP8_sensor_SMALL.jpg\" width=\"300\">"
   ]
  },
  {
   "cell_type": "markdown",
   "metadata": {},
   "source": [
    "## Description of the homework\n",
    "\n",
    "In this homework, we will curate a set of **CO2 measurements**, measured from cheap but inaccurate sensors, that have been deployed in the city of Zurich from the Carbosense project. The goal of the exercise is twofold: \n",
    "\n",
    "1. Learn how to deal with real world sensor timeseries data, and organize them efficiently using python dataframes.\n",
    "\n",
    "2. Apply data science tools to model the measurements, and use the learned model to process them (e.g., detect drifts in the sensor measurements). \n",
    "\n",
    "The sensor network consists of 46 sites, located in different parts of the city. Each site contains three different sensors measuring (a) **CO2 concentration**, (b) **temperature**, and (c) **humidity**. Beside these measurements, we have the following additional information that can be used to process the measurements: \n",
    "\n",
    "1. The **altitude** at which the CO2 sensor is located, and the GPS coordinates (latitude, longitude).\n",
    "\n",
    "2. A clustering of the city of Zurich in 17 different city **zones** and the zone in which the sensor belongs to. Some characteristic zones are industrial area, residential area, forest, glacier, lake, etc.\n",
    "\n",
    "## Prior knowledge\n",
    "\n",
    "The average value of the CO2 in a city is approximately 400 ppm. However, the exact measurement in each site depends on parameters such as the temperature, the humidity, the altitude, and the level of traffic around the site. For example, sensors positioned in high altitude (mountains, forests), are expected to have a much lower and uniform level of CO2 than sensors that are positioned in a business area with much higher traffic activity. Moreover, we know that there is a strong dependence of the CO2 measurements, on temperature and humidity.\n",
    "\n",
    "Given this knowledge, you are asked to define an algorithm that curates the data, by detecting and removing potential drifts. **The algorithm should be based on the fact that sensors in similar conditions are expected to have similar measurements.** \n",
    "\n",
    "## To start with\n",
    "\n",
    "The following csv files in the `../data/carbosense-raw/` folder will be needed: \n",
    "\n",
    "1. `CO2_sensor_measurements.csv`\n",
    "    \n",
    "   __Description__: It containts the CO2 measurements `CO2`, the name of the site `LocationName`, a unique sensor identifier `SensorUnit_ID`, and the time instance in which the measurement was taken `timestamp`.\n",
    "    \n",
    "2. `temperature_humidity.csv`\n",
    "\n",
    "   __Description__: It contains the temperature and the humidity measurements for each sensor identifier, at each timestamp `Timestamp`. For each `SensorUnit_ID`, the temperature and the humidity can be found in the corresponding columns of the dataframe `{SensorUnit_ID}.temperature`, `{SensorUnit_ID}.humidity`.\n",
    "    \n",
    "3. `sensor_metadata.csv`\n",
    "\n",
    "   __Description__: It contains the name of the site `LocationName`, the zone index `zone`, the altitude in meters `altitude`, the longitude `lon`, and the latitude `lat`. \n",
    "\n",
    "Import the following python packages:"
   ]
  },
  {
   "cell_type": "code",
   "execution_count": null,
   "metadata": {},
   "outputs": [],
   "source": [
    "import pandas as pd\n",
    "import numpy as np\n",
    "import sklearn\n",
    "import plotly.express as px\n",
    "import plotly.graph_objects as go\n",
    "import os"
   ]
  },
  {
   "cell_type": "code",
   "execution_count": null,
   "metadata": {},
   "outputs": [],
   "source": [
    "pd.options.mode.chained_assignment = None"
   ]
  },
  {
   "cell_type": "markdown",
   "metadata": {},
   "source": [
    "## PART I: Handling time series with pandas (10 points)"
   ]
  },
  {
   "cell_type": "markdown",
   "metadata": {},
   "source": [
    "### a) **8/10**\n",
    "\n",
    "Merge the `CO2_sensor_measurements.csv`, `temperature_humidity.csv`, and `sensors_metadata.csv`, into a single dataframe. \n",
    "\n",
    "* The merged dataframe contains:\n",
    "    - index: the time instance `timestamp` of the measurements\n",
    "    - columns: the location of the site `LocationName`, the sensor ID `SensorUnit_ID`, the CO2 measurement `CO2`, the `temperature`, the `humidity`, the `zone`, the `altitude`, the longitude `lon` and the latitude `lat`.\n",
    "\n",
    "| timestamp | LocationName | SensorUnit_ID | CO2 | temperature | humidity | zone | altitude | lon | lat |\n",
    "|:---------:|:------------:|:-------------:|:---:|:-----------:|:--------:|:----:|:--------:|:---:|:---:|\n",
    "|    ...    |      ...     |      ...      | ... |     ...     |    ...   |  ... |    ...   | ... | ... |\n",
    "\n",
    "\n",
    "\n",
    "* For each measurement (CO2, humidity, temperature), __take the average over an interval of 30 min__. \n",
    "\n",
    "* If there are missing measurements, __interpolate them linearly__ from measurements that are close by in time.\n",
    "\n",
    "__Hints__: The following methods could be useful\n",
    "\n",
    "1. ```python \n",
    "pandas.DataFrame.resample()\n",
    "``` \n",
    "https://pandas.pydata.org/pandas-docs/stable/reference/api/pandas.DataFrame.resample.html\n",
    "    \n",
    "2. ```python\n",
    "pandas.DataFrame.interpolate()\n",
    "```\n",
    "https://pandas.pydata.org/pandas-docs/stable/reference/api/pandas.DataFrame.interpolate.html\n",
    "    \n",
    "3. ```python\n",
    "pandas.DataFrame.mean()\n",
    "```\n",
    "https://pandas.pydata.org/pandas-docs/stable/reference/api/pandas.DataFrame.mean.html\n",
    "    \n",
    "4. ```python\n",
    "pandas.DataFrame.append()\n",
    "```\n",
    "https://pandas.pydata.org/pandas-docs/stable/reference/api/pandas.DataFrame.append.html"
   ]
  },
  {
   "cell_type": "code",
   "execution_count": null,
   "metadata": {},
   "outputs": [],
   "source": []
  },
  {
   "cell_type": "markdown",
   "metadata": {},
   "source": [
    "### b) **2/10** \n",
    "\n",
    "Export the curated and ready to use timeseries to a csv file, and properly push the merged csv to Git LFS."
   ]
  },
  {
   "cell_type": "code",
   "execution_count": null,
   "metadata": {},
   "outputs": [],
   "source": []
  },
  {
   "cell_type": "markdown",
   "metadata": {},
   "source": [
    "## PART II: Data visualization (15 points)"
   ]
  },
  {
   "cell_type": "markdown",
   "metadata": {},
   "source": [
    "### a) **5/15** \n",
    "Group the sites based on their altitude, by performing K-means clustering. \n",
    "- Find the optimal number of clusters using the [Elbow method](https://en.wikipedia.org/wiki/Elbow_method_(clustering)). \n",
    "- Wite out the formula of metric you use for Elbow curve. \n",
    "- Perform clustering with the optimal number of clusters and add an additional column `altitude_cluster` to the dataframe of the previous question indicating the altitude cluster index. \n",
    "- Report your findings.\n",
    "\n",
    "__Note__: [Yellowbrick](http://www.scikit-yb.org/) is a very nice Machine Learning Visualization extension to scikit-learn, which might be useful to you. "
   ]
  },
  {
   "cell_type": "code",
   "execution_count": null,
   "metadata": {},
   "outputs": [],
   "source": []
  },
  {
   "cell_type": "markdown",
   "metadata": {},
   "source": [
    "### b) **4/15** \n",
    "\n",
    "Use `plotly` (or other similar graphing libraries) to create an interactive plot of the monthly median CO2 measurement for each site with respect to the altitude. \n",
    "\n",
    "Add proper title and necessary hover information to each point, and give the same color to stations that belong to the same altitude cluster."
   ]
  },
  {
   "cell_type": "code",
   "execution_count": null,
   "metadata": {},
   "outputs": [],
   "source": []
  },
  {
   "cell_type": "markdown",
   "metadata": {},
   "source": [
    "### c) **6/15**\n",
    "\n",
    "Use `plotly` (or other similar graphing libraries) to plot an interactive time-varying density heatmap of the mean daily CO2 concentration for all the stations. Add proper title and necessary hover information.\n",
    "\n",
    "__Hints:__ Check following pages for more instructions:\n",
    "- [Animations](https://plotly.com/python/animations/)\n",
    "- [Density Heatmaps](https://plotly.com/python/mapbox-density-heatmaps/)"
   ]
  },
  {
   "cell_type": "code",
   "execution_count": null,
   "metadata": {},
   "outputs": [],
   "source": []
  },
  {
   "cell_type": "markdown",
   "metadata": {},
   "source": [
    "## PART III: Model fitting for data curation (35 points)"
   ]
  },
  {
   "cell_type": "markdown",
   "metadata": {},
   "source": [
    "### a) **2/35**\n",
    "\n",
    "The domain experts in charge of these sensors report that one of the CO2 sensors `ZSBN` is exhibiting a drift on Oct. 24. Verify the drift by visualizing the CO2 concentration of the drifting sensor and compare it with some other sensors from the network. "
   ]
  },
  {
   "cell_type": "code",
   "execution_count": null,
   "metadata": {},
   "outputs": [],
   "source": []
  },
  {
   "cell_type": "markdown",
   "metadata": {},
   "source": [
    "### b) **8/35**\n",
    "\n",
    "The domain experts ask you if you could reconstruct the CO2 concentration of the drifting sensor had the drift not happened. You decide to:\n",
    "- Fit a linear regression model to the CO2 measurements of the site, by considering as features the covariates not affected by the malfunction (such as temperature and humidity)\n",
    "- Create an interactive plot with `plotly` (or other similar graphing libraries):\n",
    "    - the actual CO2 measurements\n",
    "    - the values obtained by the prediction of the linear model for the entire month of October\n",
    "    - the __confidence interval__ obtained from cross validation\n",
    "- What do you observe? Report your findings.\n",
    "\n",
    "__Note:__ Cross validation on time series is different from that on other kinds of datasets. The following diagram illustrates the series of training sets (in orange) and validation sets (in blue). For more on time series cross validation, there are a lot of interesting articles available online. scikit-learn provides a nice method [`sklearn.model_selection.TimeSeriesSplit`](https://scikit-learn.org/stable/modules/generated/sklearn.model_selection.TimeSeriesSplit.html).\n",
    "\n",
    "![ts_cv](https://player.slideplayer.com/86/14062041/slides/slide_28.jpg)"
   ]
  },
  {
   "cell_type": "code",
   "execution_count": null,
   "metadata": {},
   "outputs": [],
   "source": []
  },
  {
   "cell_type": "markdown",
   "metadata": {},
   "source": [
    "### c) **10/35**\n",
    "\n",
    "In your next attempt to solve the problem, you decide to exploit the fact that the CO2 concentrations, as measured by the sensors __experiencing similar conditions__, are expected to be similar.\n",
    "\n",
    "- Find the sensors sharing similar conditions with `ZSBN`. Explain your definition of \"similar condition\".\n",
    "- Fit a linear regression model to the CO2 measurements of the site, by considering as features:\n",
    "    - the information of provided by similar sensors\n",
    "    - the covariates associated with the faulty sensors that were not affected by the malfunction (such as temperature and humidity).\n",
    "- Create an interactive plot with `plotly` (or other similar graphing libraries):\n",
    "    - the actual CO2 measurements\n",
    "    - the values obtained by the prediction of the linear model for the entire month of October\n",
    "    - the __confidence interval__ obtained from cross validation\n",
    "- What do you observe? Report your findings."
   ]
  },
  {
   "cell_type": "code",
   "execution_count": null,
   "metadata": {},
   "outputs": [],
   "source": []
  },
  {
   "cell_type": "markdown",
   "metadata": {},
   "source": [
    "### d) **10/35**\n",
    "\n",
    "Now, instead of feeding the model with all features, you want to do something smarter by using linear regression with fewer features.\n",
    "\n",
    "- Start with the same sensors and features as in question c)\n",
    "- Leverage at least two different feature selection methods\n",
    "- Create similar interactive plot as in question c)\n",
    "- Describe the methods you choose and report your findings"
   ]
  },
  {
   "cell_type": "code",
   "execution_count": null,
   "metadata": {},
   "outputs": [],
   "source": []
  },
  {
   "cell_type": "markdown",
   "metadata": {},
   "source": [
    "### e) **5/35**\n",
    "\n",
    "Eventually, you'd like to try something new - __Bayesian Structural Time Series Modelling__ - to reconstruct counterfactual values, that is, what the CO2 measurements of the faulty sensor should have been, had the malfunction not happened on October 24. You will use:\n",
    "- the information of provided by similar sensors - the ones you identified in question c)\n",
    "- the covariates associated with the faulty sensors that were not affected by the malfunction (such as temperature and humidity).\n",
    "\n",
    "To answer this question, you can choose between a Python port of the CausalImpact package (such as https://github.com/dafiti/causalimpact) or the original R version (https://google.github.io/CausalImpact/CausalImpact.html) that you can run in your notebook via an R kernel (https://github.com/IRkernel/IRkernel).\n",
    "\n",
    "Before you start, watch first the [presentation](https://www.youtube.com/watch?v=GTgZfCltMm8) given by Kay Brodersen (one of the creators of the causal impact implementation in R), and this introductory [ipython notebook](http://nbviewer.jupyter.org/github/dafiti/causalimpact/blob/master/examples/getting_started.ipynb) with examples of how to use the python package.\n",
    "\n",
    "- Report your findings:\n",
    "    - Is the counterfactual reconstruction of CO2 measurements significantly different from the observed measurements?\n",
    "    - Can you try to explain the results?"
   ]
  },
  {
   "cell_type": "code",
   "execution_count": null,
   "metadata": {},
   "outputs": [],
   "source": []
  },
  {
   "cell_type": "markdown",
   "metadata": {},
   "source": [
    "# That's all, folks!"
   ]
  }
 ],
 "metadata": {
  "anaconda-cloud": {},
  "kernelspec": {
   "display_name": "Python 3",
   "language": "python",
   "name": "python3"
  },
  "language_info": {
   "codemirror_mode": {
    "name": "ipython",
    "version": 3
   },
   "file_extension": ".py",
   "mimetype": "text/x-python",
   "name": "python",
   "nbconvert_exporter": "python",
   "pygments_lexer": "ipython3",
   "version": "3.7.6"
  }
 },
 "nbformat": 4,
 "nbformat_minor": 4
}
