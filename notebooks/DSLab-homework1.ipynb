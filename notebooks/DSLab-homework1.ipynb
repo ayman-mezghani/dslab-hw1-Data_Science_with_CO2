{
 "cells": [
  {
   "cell_type": "markdown",
   "metadata": {},
   "source": [
    "# DSLab Homework 1 - Data Science with CO2\n",
    "\n",
    "## Hand-in Instructions\n",
    "\n",
    "- __Due: 23.03.2021 23h59 CET__\n",
    "- `git push` your final verion to the master branch of your group's Renku repository before the due\n",
    "- check if `Dockerfile`, `environment.yml` and `requirements.txt` are properly written\n",
    "- add necessary comments and discussion to make your codes readable"
   ]
  },
  {
   "cell_type": "markdown",
   "metadata": {},
   "source": [
    "## Carbosense\n",
    "\n",
    "The project Carbosense establishes a uniquely dense CO2 sensor network across Switzerland to provide near-real time information on man-made emissions and CO2 uptake by the biosphere. The main goal of the project is to improve the understanding of the small-scale CO2 fluxes in Switzerland and concurrently to contribute to a better top-down quantification of the Swiss CO2 emissions. The Carbosense network has a spatial focus on the City of Zurich where more than 50 sensors are deployed. Network operations started in July 2017.\n",
    "\n",
    "<img src=\"http://carbosense.wdfiles.com/local--files/main:project/CarboSense_MAP_20191113_LowRes.jpg\" width=\"500\">\n",
    "\n",
    "<img src=\"http://carbosense.wdfiles.com/local--files/main:sensors/LP8_ZLMT_3.JPG\" width=\"156\">  <img src=\"http://carbosense.wdfiles.com/local--files/main:sensors/LP8_sensor_SMALL.jpg\" width=\"300\">"
   ]
  },
  {
   "cell_type": "markdown",
   "metadata": {},
   "source": [
    "## Description of the homework\n",
    "\n",
    "In this homework, we will curate a set of **CO2 measurements**, measured from cheap but inaccurate sensors, that have been deployed in the city of Zurich from the Carbosense project. The goal of the exercise is twofold: \n",
    "\n",
    "1. Learn how to deal with real world sensor timeseries data, and organize them efficiently using python dataframes.\n",
    "\n",
    "2. Apply data science tools to model the measurements, and use the learned model to process them (e.g., detect drifts in the sensor measurements). \n",
    "\n",
    "The sensor network consists of 46 sites, located in different parts of the city. Each site contains three different sensors measuring (a) **CO2 concentration**, (b) **temperature**, and (c) **humidity**. Beside these measurements, we have the following additional information that can be used to process the measurements: \n",
    "\n",
    "1. The **altitude** at which the CO2 sensor is located, and the GPS coordinates (latitude, longitude).\n",
    "\n",
    "2. A clustering of the city of Zurich in 17 different city **zones** and the zone in which the sensor belongs to. Some characteristic zones are industrial area, residential area, forest, glacier, lake, etc.\n",
    "\n",
    "## Prior knowledge\n",
    "\n",
    "The average value of the CO2 in a city is approximately 400 ppm. However, the exact measurement in each site depends on parameters such as the temperature, the humidity, the altitude, and the level of traffic around the site. For example, sensors positioned in high altitude (mountains, forests), are expected to have a much lower and uniform level of CO2 than sensors that are positioned in a business area with much higher traffic activity. Moreover, we know that there is a strong dependence of the CO2 measurements, on temperature and humidity.\n",
    "\n",
    "Given this knowledge, you are asked to define an algorithm that curates the data, by detecting and removing potential drifts. **The algorithm should be based on the fact that sensors in similar conditions are expected to have similar measurements.** \n",
    "\n",
    "## To start with\n",
    "\n",
    "The following csv files in the `../data/carbosense-raw/` folder will be needed: \n",
    "\n",
    "1. `CO2_sensor_measurements.csv`\n",
    "    \n",
    "   __Description__: It containts the CO2 measurements `CO2`, the name of the site `LocationName`, a unique sensor identifier `SensorUnit_ID`, and the time instance in which the measurement was taken `timestamp`.\n",
    "    \n",
    "2. `temperature_humidity.csv`\n",
    "\n",
    "   __Description__: It contains the temperature and the humidity measurements for each sensor identifier, at each timestamp `Timestamp`. For each `SensorUnit_ID`, the temperature and the humidity can be found in the corresponding columns of the dataframe `{SensorUnit_ID}.temperature`, `{SensorUnit_ID}.humidity`.\n",
    "    \n",
    "3. `sensor_metadata.csv`\n",
    "\n",
    "   __Description__: It contains the name of the site `LocationName`, the zone index `zone`, the altitude in meters `altitude`, the longitude `lon`, and the latitude `lat`. \n",
    "\n",
    "Import the following python packages:"
   ]
  },
  {
   "cell_type": "code",
   "execution_count": null,
   "metadata": {},
   "outputs": [],
   "source": [
    "import pandas as pd\n",
    "import numpy as np\n",
    "import sklearn\n",
    "import plotly.express as px\n",
    "import plotly.graph_objects as go\n",
    "import os"
   ]
  },
  {
   "cell_type": "code",
   "execution_count": null,
   "metadata": {},
   "outputs": [],
   "source": [
    "pd.options.mode.chained_assignment = None"
   ]
  },
  {
   "cell_type": "markdown",
   "metadata": {},
   "source": [
    "## PART I: Handling time series with pandas (10 points)"
   ]
  },
  {
   "cell_type": "markdown",
   "metadata": {},
   "source": [
    "### a) **8/10**\n",
    "\n",
    "Merge the `CO2_sensor_measurements.csv`, `temperature_humidity.csv`, and `sensors_metadata.csv`, into a single dataframe. \n",
    "\n",
    "* The merged dataframe contains:\n",
    "    - index: the time instance `timestamp` of the measurements\n",
    "    - columns: the location of the site `LocationName`, the sensor ID `SensorUnit_ID`, the CO2 measurement `CO2`, the `temperature`, the `humidity`, the `zone`, the `altitude`, the longitude `lon` and the latitude `lat`.\n",
    "\n",
    "| timestamp | LocationName | SensorUnit_ID | CO2 | temperature | humidity | zone | altitude | lon | lat |\n",
    "|:---------:|:------------:|:-------------:|:---:|:-----------:|:--------:|:----:|:--------:|:---:|:---:|\n",
    "|    ...    |      ...     |      ...      | ... |     ...     |    ...   |  ... |    ...   | ... | ... |\n",
    "\n",
    "\n",
    "\n",
    "* For each measurement (CO2, humidity, temperature), __take the average over an interval of 30 min__. \n",
    "\n",
    "* If there are missing measurements, __interpolate them linearly__ from measurements that are close by in time.\n",
    "\n",
    "__Hints__: The following methods could be useful\n",
    "\n",
    "1. ```python \n",
    "pandas.DataFrame.resample()\n",
    "``` \n",
    "https://pandas.pydata.org/pandas-docs/stable/reference/api/pandas.DataFrame.resample.html\n",
    "    \n",
    "2. ```python\n",
    "pandas.DataFrame.interpolate()\n",
    "```\n",
    "https://pandas.pydata.org/pandas-docs/stable/reference/api/pandas.DataFrame.interpolate.html\n",
    "    \n",
    "3. ```python\n",
    "pandas.DataFrame.mean()\n",
    "```\n",
    "https://pandas.pydata.org/pandas-docs/stable/reference/api/pandas.DataFrame.mean.html\n",
    "    \n",
    "4. ```python\n",
    "pandas.DataFrame.append()\n",
    "```\n",
    "https://pandas.pydata.org/pandas-docs/stable/reference/api/pandas.DataFrame.append.html"
   ]
  },
  {
   "cell_type": "code",
   "execution_count": null,
   "metadata": {},
   "outputs": [],
   "source": [
    "!git lfs pull"
   ]
  },
  {
   "cell_type": "code",
   "execution_count": null,
   "metadata": {},
   "outputs": [],
   "source": [
    "co2_measurements = pd.read_csv(\"../data/carbosense-raw/CO2_sensor_measurements.csv\",\n",
    "                             sep=\"\\t\",\n",
    "                             parse_dates=['timestamp'])\n",
    "co2_measurements = co2_measurements.rename({'SensorUnit_ID':'sensor'}, axis=1)"
   ]
  },
  {
   "cell_type": "code",
   "execution_count": null,
   "metadata": {},
   "outputs": [],
   "source": [
    "co2_measurements.head()"
   ]
  },
  {
   "cell_type": "code",
   "execution_count": null,
   "metadata": {},
   "outputs": [],
   "source": [
    "co2_measurements.isnull().any(None)"
   ]
  },
  {
   "cell_type": "code",
   "execution_count": null,
   "metadata": {},
   "outputs": [],
   "source": [
    "co2_measurements['sensor'] = co2_measurements['sensor'].astype(int)"
   ]
  },
  {
   "cell_type": "code",
   "execution_count": null,
   "metadata": {},
   "outputs": [],
   "source": [
    "def co2_measurements_resample(df):\n",
    "    res = df['CO2'].resample('30min').mean().to_frame()\n",
    "    # Some periods of 30min have 0 datapoints, therefore we need to interpolate\n",
    "    res = res.interpolate('linear', axis=0)\n",
    "    res['LocationName'] = df['LocationName'].values[0]\n",
    "    return res\n",
    "\n",
    "co2_measurements = co2_measurements.set_index('timestamp') \\\n",
    "                                    .groupby('sensor') \\\n",
    "                                    .apply(co2_measurements_resample)"
   ]
  },
  {
   "cell_type": "code",
   "execution_count": null,
   "metadata": {},
   "outputs": [],
   "source": [
    "co2_measurements.isnull().any(None)"
   ]
  },
  {
   "cell_type": "code",
   "execution_count": null,
   "metadata": {},
   "outputs": [],
   "source": [
    "temp_humidity = pd.read_csv(\"../data/carbosense-raw/temperature_humidity.csv\",\n",
    "                            sep=\"\\t\",\n",
    "                            parse_dates=['Timestamp'])\n",
    "temp_humidity = temp_humidity.rename({'Timestamp':'timestamp'}, axis=1)"
   ]
  },
  {
   "cell_type": "code",
   "execution_count": null,
   "metadata": {},
   "outputs": [],
   "source": [
    "temp_humidity.head()"
   ]
  },
  {
   "cell_type": "code",
   "execution_count": null,
   "metadata": {},
   "outputs": [],
   "source": [
    "temp_humidity = pd.melt(temp_humidity, id_vars='timestamp', var_name='sensor.temp_humidity', value_name='measurement')\n",
    "temp_humidity[['sensor','temp_humidity']] = temp_humidity['sensor.temp_humidity'].str.split('.', expand=True)\n",
    "temp_humidity = temp_humidity.pivot(index=['timestamp','sensor'], columns='temp_humidity', values='measurement').reset_index()"
   ]
  },
  {
   "cell_type": "code",
   "execution_count": null,
   "metadata": {},
   "outputs": [],
   "source": [
    "temp_humidity"
   ]
  },
  {
   "cell_type": "code",
   "execution_count": null,
   "metadata": {},
   "outputs": [],
   "source": [
    "temp_humidity['sensor'] = temp_humidity['sensor'].astype(int)"
   ]
  },
  {
   "cell_type": "code",
   "execution_count": null,
   "metadata": {},
   "outputs": [],
   "source": [
    "temp_humidity.isnull().any(None)"
   ]
  },
  {
   "cell_type": "code",
   "execution_count": null,
   "metadata": {},
   "outputs": [],
   "source": [
    "temp_humidity= temp_humidity.set_index('timestamp') \\\n",
    "                             .groupby('sensor') \\\n",
    "                             .apply(lambda df: df[['temperature', 'humidity']]\n",
    "                                               .interpolate('linear', axis=0) \\\n",
    "                                               .resample('30min').mean())"
   ]
  },
  {
   "cell_type": "code",
   "execution_count": null,
   "metadata": {},
   "outputs": [],
   "source": [
    "temp_humidity.isnull().any(None)"
   ]
  },
  {
   "cell_type": "code",
   "execution_count": null,
   "metadata": {},
   "outputs": [],
   "source": [
    "temp_humidity"
   ]
  },
  {
   "cell_type": "code",
   "execution_count": null,
   "metadata": {},
   "outputs": [],
   "source": [
    "metadata = pd.read_csv(\"../data/carbosense-raw/sensors_metadata.csv\", sep=\"\\t\")\n",
    "metadata.head()"
   ]
  },
  {
   "cell_type": "code",
   "execution_count": null,
   "metadata": {},
   "outputs": [],
   "source": [
    "temp_humidity = temp_humidity.reset_index()\n",
    "co2_measurements = co2_measurements.reset_index()\n",
    "final_df = pd.merge(temp_humidity, co2_measurements, how='inner', right_on=['sensor','timestamp'], left_on=['sensor','timestamp'])"
   ]
  },
  {
   "cell_type": "code",
   "execution_count": null,
   "metadata": {},
   "outputs": [],
   "source": [
    "final_df = pd.merge(final_df, metadata, left_on='LocationName', right_on='LocationName', validate='m:1')"
   ]
  },
  {
   "cell_type": "code",
   "execution_count": null,
   "metadata": {},
   "outputs": [],
   "source": [
    "final_df.isnull().any(None)"
   ]
  },
  {
   "cell_type": "code",
   "execution_count": null,
   "metadata": {},
   "outputs": [],
   "source": [
    "final_df = final_df.set_index('timestamp')"
   ]
  },
  {
   "cell_type": "code",
   "execution_count": null,
   "metadata": {},
   "outputs": [],
   "source": [
    "final_df"
   ]
  },
  {
   "cell_type": "markdown",
   "metadata": {},
   "source": [
    "### b) **2/10** \n",
    "\n",
    "Export the curated and ready to use timeseries to a csv file, and properly push the merged csv to Git LFS."
   ]
  },
  {
   "cell_type": "code",
   "execution_count": null,
   "metadata": {},
   "outputs": [],
   "source": [
    "os.chdir('..')"
   ]
  },
  {
   "cell_type": "code",
   "execution_count": null,
   "metadata": {},
   "outputs": [],
   "source": [
    "!git lfs track -l "
   ]
  },
  {
   "cell_type": "code",
   "execution_count": null,
   "metadata": {},
   "outputs": [],
   "source": [
    "save_path = 'data/carbosense-raw/final_df.csv'"
   ]
  },
  {
   "cell_type": "code",
   "execution_count": null,
   "metadata": {},
   "outputs": [],
   "source": [
    "!git lfs track data/carbosense-raw/final_df.csv"
   ]
  },
  {
   "cell_type": "code",
   "execution_count": null,
   "metadata": {},
   "outputs": [],
   "source": [
    "!git lfs track -l "
   ]
  },
  {
   "cell_type": "code",
   "execution_count": null,
   "metadata": {},
   "outputs": [],
   "source": [
    "final_df.to_csv(save_path, sep='\\t')"
   ]
  },
  {
   "cell_type": "code",
   "execution_count": null,
   "metadata": {},
   "outputs": [],
   "source": [
    "!git add  data/carbosense-raw/final_df.csv"
   ]
  },
  {
   "cell_type": "code",
   "execution_count": null,
   "metadata": {},
   "outputs": [],
   "source": [
    "!git commit -m \"df csv file\""
   ]
  },
  {
   "cell_type": "code",
   "execution_count": null,
   "metadata": {},
   "outputs": [],
   "source": [
    "!git push"
   ]
  },
  {
   "cell_type": "markdown",
   "metadata": {},
   "source": [
    "## PART II: Data visualization (15 points)"
   ]
  },
  {
   "cell_type": "markdown",
   "metadata": {},
   "source": [
    "### a) **5/15** \n",
    "Group the sites based on their altitude, by performing K-means clustering. \n",
    "- Find the optimal number of clusters using the [Elbow method](https://en.wikipedia.org/wiki/Elbow_method_(clustering)). \n",
    "- Wite out the formula of metric you use for Elbow curve. \n",
    "- Perform clustering with the optimal number of clusters and add an additional column `altitude_cluster` to the dataframe of the previous question indicating the altitude cluster index. \n",
    "- Report your findings.\n",
    "\n",
    "__Note__: [Yellowbrick](http://www.scikit-yb.org/) is a very nice Machine Learning Visualization extension to scikit-learn, which might be useful to you. "
   ]
  },
  {
   "cell_type": "code",
   "execution_count": null,
   "metadata": {},
   "outputs": [],
   "source": []
  },
  {
   "cell_type": "markdown",
   "metadata": {},
   "source": [
    "### b) **4/15** \n",
    "\n",
    "Use `plotly` (or other similar graphing libraries) to create an interactive plot of the monthly median CO2 measurement for each site with respect to the altitude. \n",
    "\n",
    "Add proper title and necessary hover information to each point, and give the same color to stations that belong to the same altitude cluster."
   ]
  },
  {
   "cell_type": "code",
   "execution_count": null,
   "metadata": {},
   "outputs": [],
   "source": []
  },
  {
   "cell_type": "markdown",
   "metadata": {},
   "source": [
    "### c) **6/15**\n",
    "\n",
    "Use `plotly` (or other similar graphing libraries) to plot an interactive time-varying density heatmap of the mean daily CO2 concentration for all the stations. Add proper title and necessary hover information.\n",
    "\n",
    "__Hints:__ Check following pages for more instructions:\n",
    "- [Animations](https://plotly.com/python/animations/)\n",
    "- [Density Heatmaps](https://plotly.com/python/mapbox-density-heatmaps/)"
   ]
  },
  {
   "cell_type": "code",
   "execution_count": null,
   "metadata": {},
   "outputs": [],
   "source": []
  },
  {
   "cell_type": "markdown",
   "metadata": {},
   "source": [
    "## PART III: Model fitting for data curation (35 points)"
   ]
  },
  {
   "cell_type": "markdown",
   "metadata": {},
   "source": [
    "### a) **2/35**\n",
    "\n",
    "The domain experts in charge of these sensors report that one of the CO2 sensors `ZSBN` is exhibiting a drift on Oct. 24. Verify the drift by visualizing the CO2 concentration of the drifting sensor and compare it with some other sensors from the network. "
   ]
  },
  {
   "cell_type": "code",
   "execution_count": 316,
   "metadata": {},
   "outputs": [],
   "source": [
    "import plotly.express as px"
   ]
  },
  {
   "cell_type": "code",
   "execution_count": 317,
   "metadata": {},
   "outputs": [
    {
     "data": {
      "text/html": [
       "<div>\n",
       "<style scoped>\n",
       "    .dataframe tbody tr th:only-of-type {\n",
       "        vertical-align: middle;\n",
       "    }\n",
       "\n",
       "    .dataframe tbody tr th {\n",
       "        vertical-align: top;\n",
       "    }\n",
       "\n",
       "    .dataframe thead th {\n",
       "        text-align: right;\n",
       "    }\n",
       "</style>\n",
       "<table border=\"1\" class=\"dataframe\">\n",
       "  <thead>\n",
       "    <tr style=\"text-align: right;\">\n",
       "      <th></th>\n",
       "      <th>sensor</th>\n",
       "      <th>temperature</th>\n",
       "      <th>humidity</th>\n",
       "      <th>CO2</th>\n",
       "      <th>LocationName</th>\n",
       "      <th>zone</th>\n",
       "      <th>altitude</th>\n",
       "      <th>lat</th>\n",
       "      <th>lon</th>\n",
       "    </tr>\n",
       "    <tr>\n",
       "      <th>timestamp</th>\n",
       "      <th></th>\n",
       "      <th></th>\n",
       "      <th></th>\n",
       "      <th></th>\n",
       "      <th></th>\n",
       "      <th></th>\n",
       "      <th></th>\n",
       "      <th></th>\n",
       "      <th></th>\n",
       "    </tr>\n",
       "  </thead>\n",
       "  <tbody>\n",
       "    <tr>\n",
       "      <th>2017-10-01 00:00:00</th>\n",
       "      <td>1014</td>\n",
       "      <td>11.396667</td>\n",
       "      <td>92.440806</td>\n",
       "      <td>595.004391</td>\n",
       "      <td>ZGHD</td>\n",
       "      <td>2</td>\n",
       "      <td>413.5</td>\n",
       "      <td>47.370446</td>\n",
       "      <td>8.523256</td>\n",
       "    </tr>\n",
       "    <tr>\n",
       "      <th>2017-10-01 00:30:00</th>\n",
       "      <td>1014</td>\n",
       "      <td>11.303333</td>\n",
       "      <td>91.625097</td>\n",
       "      <td>597.017879</td>\n",
       "      <td>ZGHD</td>\n",
       "      <td>2</td>\n",
       "      <td>413.5</td>\n",
       "      <td>47.370446</td>\n",
       "      <td>8.523256</td>\n",
       "    </tr>\n",
       "    <tr>\n",
       "      <th>2017-10-01 01:00:00</th>\n",
       "      <td>1014</td>\n",
       "      <td>11.240000</td>\n",
       "      <td>91.096761</td>\n",
       "      <td>596.487010</td>\n",
       "      <td>ZGHD</td>\n",
       "      <td>2</td>\n",
       "      <td>413.5</td>\n",
       "      <td>47.370446</td>\n",
       "      <td>8.523256</td>\n",
       "    </tr>\n",
       "    <tr>\n",
       "      <th>2017-10-01 01:30:00</th>\n",
       "      <td>1014</td>\n",
       "      <td>11.260000</td>\n",
       "      <td>91.275734</td>\n",
       "      <td>598.787639</td>\n",
       "      <td>ZGHD</td>\n",
       "      <td>2</td>\n",
       "      <td>413.5</td>\n",
       "      <td>47.370446</td>\n",
       "      <td>8.523256</td>\n",
       "    </tr>\n",
       "    <tr>\n",
       "      <th>2017-10-01 02:00:00</th>\n",
       "      <td>1014</td>\n",
       "      <td>11.285000</td>\n",
       "      <td>91.003937</td>\n",
       "      <td>595.366394</td>\n",
       "      <td>ZGHD</td>\n",
       "      <td>2</td>\n",
       "      <td>413.5</td>\n",
       "      <td>47.370446</td>\n",
       "      <td>8.523256</td>\n",
       "    </tr>\n",
       "  </tbody>\n",
       "</table>\n",
       "</div>"
      ],
      "text/plain": [
       "                     sensor  temperature   humidity         CO2 LocationName  \\\n",
       "timestamp                                                                      \n",
       "2017-10-01 00:00:00    1014    11.396667  92.440806  595.004391         ZGHD   \n",
       "2017-10-01 00:30:00    1014    11.303333  91.625097  597.017879         ZGHD   \n",
       "2017-10-01 01:00:00    1014    11.240000  91.096761  596.487010         ZGHD   \n",
       "2017-10-01 01:30:00    1014    11.260000  91.275734  598.787639         ZGHD   \n",
       "2017-10-01 02:00:00    1014    11.285000  91.003937  595.366394         ZGHD   \n",
       "\n",
       "                     zone  altitude        lat       lon  \n",
       "timestamp                                                 \n",
       "2017-10-01 00:00:00     2     413.5  47.370446  8.523256  \n",
       "2017-10-01 00:30:00     2     413.5  47.370446  8.523256  \n",
       "2017-10-01 01:00:00     2     413.5  47.370446  8.523256  \n",
       "2017-10-01 01:30:00     2     413.5  47.370446  8.523256  \n",
       "2017-10-01 02:00:00     2     413.5  47.370446  8.523256  "
      ]
     },
     "execution_count": 317,
     "metadata": {},
     "output_type": "execute_result"
    }
   ],
   "source": [
    "final_df.head()"
   ]
  },
  {
   "cell_type": "code",
   "execution_count": 318,
   "metadata": {},
   "outputs": [],
   "source": [
    "df_oct_24 = final_df[final_df.index.day == 24]\n",
    "df_comparison = df_oct_24[df_oct_24['LocationName'].isin(['ZSBN','ZLDW','SMHK','ZWCH'])]"
   ]
  },
  {
   "cell_type": "code",
   "execution_count": 319,
   "metadata": {},
   "outputs": [
    {
     "data": {
      "application/vnd.plotly.v1+json": {
       "config": {
        "plotlyServerURL": "https://plot.ly"
       },
       "data": [
        {
         "hovertemplate": "Sensor=ZSBN<br>time=%{x}<br>CO2 (ppm)=%{y}<extra></extra>",
         "legendgroup": "ZSBN",
         "line": {
          "color": "#636efa",
          "dash": "solid"
         },
         "mode": "lines",
         "name": "ZSBN",
         "orientation": "v",
         "showlegend": true,
         "type": "scatter",
         "x": [
          "2017-10-24T00:00:00",
          "2017-10-24T00:30:00",
          "2017-10-24T01:00:00",
          "2017-10-24T01:30:00",
          "2017-10-24T02:00:00",
          "2017-10-24T02:30:00",
          "2017-10-24T03:00:00",
          "2017-10-24T03:30:00",
          "2017-10-24T04:00:00",
          "2017-10-24T04:30:00",
          "2017-10-24T05:00:00",
          "2017-10-24T05:30:00",
          "2017-10-24T06:00:00",
          "2017-10-24T06:30:00",
          "2017-10-24T07:00:00",
          "2017-10-24T07:30:00",
          "2017-10-24T08:00:00",
          "2017-10-24T08:30:00",
          "2017-10-24T09:00:00",
          "2017-10-24T09:30:00",
          "2017-10-24T10:00:00",
          "2017-10-24T10:30:00",
          "2017-10-24T11:00:00",
          "2017-10-24T11:30:00",
          "2017-10-24T12:00:00",
          "2017-10-24T12:30:00",
          "2017-10-24T13:00:00",
          "2017-10-24T13:30:00",
          "2017-10-24T14:00:00",
          "2017-10-24T14:30:00",
          "2017-10-24T15:00:00",
          "2017-10-24T15:30:00",
          "2017-10-24T16:00:00",
          "2017-10-24T16:30:00",
          "2017-10-24T17:00:00",
          "2017-10-24T17:30:00",
          "2017-10-24T18:00:00",
          "2017-10-24T18:30:00",
          "2017-10-24T19:00:00",
          "2017-10-24T19:30:00",
          "2017-10-24T20:00:00",
          "2017-10-24T20:30:00",
          "2017-10-24T21:00:00",
          "2017-10-24T21:30:00",
          "2017-10-24T22:00:00",
          "2017-10-24T22:30:00",
          "2017-10-24T23:00:00",
          "2017-10-24T23:30:00"
         ],
         "xaxis": "x",
         "y": [
          396.87359137604335,
          394.398725982938,
          395.741771495996,
          401.1596487621701,
          400.21157236307903,
          399.07737111377065,
          397.31760213484534,
          371.23424057848433,
          361.89034671544033,
          362.674479728285,
          364.6229680290365,
          370.444336389517,
          371.77470168797254,
          360.6087617568435,
          365.5659254863426,
          359.292809396982,
          357.27466078159165,
          350.72973452771646,
          350.4645575656477,
          346.39315775774867,
          343.23557635014004,
          341.79671812326,
          341.0329981291723,
          339.9758740005603,
          338.3586277004635,
          332.0676943817293,
          330.9317805292183,
          324.65541077901236,
          324.88262604944555,
          329.85831733659666,
          337.7849692550593,
          341.6606508103534,
          343.438554885191,
          351.7684701127065,
          357.823067536138,
          353.07478537611604,
          353.8601930625734,
          356.60836483433167,
          355.180166078277,
          356.25021553922807,
          362.91672280371404,
          363.85466962411897,
          362.1233192780096,
          361.00347563017,
          357.27934461417,
          360.5994908197244,
          359.6510787827456,
          364.656868284533
         ],
         "yaxis": "y"
        },
        {
         "hovertemplate": "Sensor=ZWCH<br>time=%{x}<br>CO2 (ppm)=%{y}<extra></extra>",
         "legendgroup": "ZWCH",
         "line": {
          "color": "#EF553B",
          "dash": "solid"
         },
         "mode": "lines",
         "name": "ZWCH",
         "orientation": "v",
         "showlegend": true,
         "type": "scatter",
         "x": [
          "2017-10-24T00:00:00",
          "2017-10-24T00:30:00",
          "2017-10-24T01:00:00",
          "2017-10-24T01:30:00",
          "2017-10-24T02:00:00",
          "2017-10-24T02:30:00",
          "2017-10-24T03:00:00",
          "2017-10-24T03:30:00",
          "2017-10-24T04:00:00",
          "2017-10-24T04:30:00",
          "2017-10-24T05:00:00",
          "2017-10-24T05:30:00",
          "2017-10-24T06:00:00",
          "2017-10-24T06:30:00",
          "2017-10-24T07:00:00",
          "2017-10-24T07:30:00",
          "2017-10-24T08:00:00",
          "2017-10-24T08:30:00",
          "2017-10-24T09:00:00",
          "2017-10-24T09:30:00",
          "2017-10-24T10:00:00",
          "2017-10-24T10:30:00",
          "2017-10-24T11:00:00",
          "2017-10-24T11:30:00",
          "2017-10-24T12:00:00",
          "2017-10-24T12:30:00",
          "2017-10-24T13:00:00",
          "2017-10-24T13:30:00",
          "2017-10-24T14:00:00",
          "2017-10-24T14:30:00",
          "2017-10-24T15:00:00",
          "2017-10-24T15:30:00",
          "2017-10-24T16:00:00",
          "2017-10-24T16:30:00",
          "2017-10-24T17:00:00",
          "2017-10-24T17:30:00",
          "2017-10-24T18:00:00",
          "2017-10-24T18:30:00",
          "2017-10-24T19:00:00",
          "2017-10-24T19:30:00",
          "2017-10-24T20:00:00",
          "2017-10-24T20:30:00",
          "2017-10-24T21:00:00",
          "2017-10-24T21:30:00",
          "2017-10-24T22:00:00",
          "2017-10-24T22:30:00",
          "2017-10-24T23:00:00",
          "2017-10-24T23:30:00"
         ],
         "xaxis": "x",
         "y": [
          448.7323884681477,
          450.0903594606044,
          450.3770725721755,
          452.0054069148653,
          450.5883260419001,
          455.05064321581403,
          457.29681345414093,
          460.68503429504693,
          461.9661587238831,
          464.10632954462307,
          467.631727323368,
          464.0118124629235,
          470.0962213833223,
          469.78580713996234,
          462.06616144033336,
          459.6674122980105,
          450.92474599581766,
          448.6850402250223,
          442.59791894603836,
          438.5907290675725,
          431.3723322722203,
          429.1217109432535,
          429.05785343976896,
          427.47473624974396,
          428.172803525022,
          424.76226718947834,
          426.81032980620733,
          423.86450780478395,
          426.35419632161035,
          424.66762388845933,
          431.6985435780043,
          454.7382416109163,
          463.55515084425605,
          467.97622964783744,
          466.303799358191,
          467.401551137283,
          475.2341420064604,
          463.7548426808019,
          456.8800511322831,
          462.0898560772366,
          483.01665128334196,
          490.53526929147,
          482.93778869224525,
          476.8129428447587,
          469.924008203355,
          464.5277854025903,
          465.338855102222,
          473.16940757653344
         ],
         "yaxis": "y"
        },
        {
         "hovertemplate": "Sensor=SMHK<br>time=%{x}<br>CO2 (ppm)=%{y}<extra></extra>",
         "legendgroup": "SMHK",
         "line": {
          "color": "#00cc96",
          "dash": "solid"
         },
         "mode": "lines",
         "name": "SMHK",
         "orientation": "v",
         "showlegend": true,
         "type": "scatter",
         "x": [
          "2017-10-24T00:00:00",
          "2017-10-24T00:30:00",
          "2017-10-24T01:00:00",
          "2017-10-24T01:30:00",
          "2017-10-24T02:00:00",
          "2017-10-24T02:30:00",
          "2017-10-24T03:00:00",
          "2017-10-24T03:30:00",
          "2017-10-24T04:00:00",
          "2017-10-24T04:30:00",
          "2017-10-24T05:00:00",
          "2017-10-24T05:30:00",
          "2017-10-24T06:00:00",
          "2017-10-24T06:30:00",
          "2017-10-24T07:00:00",
          "2017-10-24T07:30:00",
          "2017-10-24T08:00:00",
          "2017-10-24T08:30:00",
          "2017-10-24T09:00:00",
          "2017-10-24T09:30:00",
          "2017-10-24T10:00:00",
          "2017-10-24T10:30:00",
          "2017-10-24T11:00:00",
          "2017-10-24T11:30:00",
          "2017-10-24T12:00:00",
          "2017-10-24T12:30:00",
          "2017-10-24T13:00:00",
          "2017-10-24T13:30:00",
          "2017-10-24T14:00:00",
          "2017-10-24T14:30:00",
          "2017-10-24T15:00:00",
          "2017-10-24T15:30:00",
          "2017-10-24T16:00:00",
          "2017-10-24T16:30:00",
          "2017-10-24T17:00:00",
          "2017-10-24T17:30:00",
          "2017-10-24T18:00:00",
          "2017-10-24T18:30:00",
          "2017-10-24T19:00:00",
          "2017-10-24T19:30:00",
          "2017-10-24T20:00:00",
          "2017-10-24T20:30:00",
          "2017-10-24T21:00:00",
          "2017-10-24T21:30:00",
          "2017-10-24T22:00:00",
          "2017-10-24T22:30:00",
          "2017-10-24T23:00:00",
          "2017-10-24T23:30:00"
         ],
         "xaxis": "x",
         "y": [
          529.150371464127,
          530.8634078358059,
          537.1468245064943,
          539.3391513940427,
          539.5802203892526,
          550.5825191254144,
          558.3415326368239,
          560.029272336162,
          562.2378706312178,
          556.117771656563,
          557.7739141453027,
          563.705865318636,
          568.2842183455454,
          571.8586110740783,
          569.3730602691606,
          557.6843274430616,
          531.7879740732179,
          526.4616622186394,
          520.1913931192618,
          510.7989640048224,
          506.6662906002463,
          505.0046939894296,
          506.16037109592963,
          502.15120750955566,
          501.3857236767364,
          495.38244189787264,
          493.30316509620235,
          492.5320146492627,
          491.284127444751,
          497.4580770830964,
          513.19469136488,
          523.605337916067,
          528.2685013656691,
          525.2434707861161,
          533.7216741091987,
          541.3376270463514,
          545.8234470967393,
          546.026040596194,
          553.9483480110799,
          552.0940483630884,
          564.365450741008,
          563.8842272653123,
          569.2246697596464,
          570.708369782721,
          577.5015564641891,
          583.298837197446,
          587.6008332675927,
          592.0269489726096
         ],
         "yaxis": "y"
        },
        {
         "hovertemplate": "Sensor=ZLDW<br>time=%{x}<br>CO2 (ppm)=%{y}<extra></extra>",
         "legendgroup": "ZLDW",
         "line": {
          "color": "#ab63fa",
          "dash": "solid"
         },
         "mode": "lines",
         "name": "ZLDW",
         "orientation": "v",
         "showlegend": true,
         "type": "scatter",
         "x": [
          "2017-10-24T00:00:00",
          "2017-10-24T00:30:00",
          "2017-10-24T01:00:00",
          "2017-10-24T01:30:00",
          "2017-10-24T02:00:00",
          "2017-10-24T02:30:00",
          "2017-10-24T03:00:00",
          "2017-10-24T03:30:00",
          "2017-10-24T04:00:00",
          "2017-10-24T04:30:00",
          "2017-10-24T05:00:00",
          "2017-10-24T05:30:00",
          "2017-10-24T06:00:00",
          "2017-10-24T06:30:00",
          "2017-10-24T07:00:00",
          "2017-10-24T07:30:00",
          "2017-10-24T08:00:00",
          "2017-10-24T08:30:00",
          "2017-10-24T09:00:00",
          "2017-10-24T09:30:00",
          "2017-10-24T10:00:00",
          "2017-10-24T10:30:00",
          "2017-10-24T11:00:00",
          "2017-10-24T11:30:00",
          "2017-10-24T12:00:00",
          "2017-10-24T12:30:00",
          "2017-10-24T13:00:00",
          "2017-10-24T13:30:00",
          "2017-10-24T14:00:00",
          "2017-10-24T14:30:00",
          "2017-10-24T15:00:00",
          "2017-10-24T15:30:00",
          "2017-10-24T16:00:00",
          "2017-10-24T16:30:00",
          "2017-10-24T17:00:00",
          "2017-10-24T17:30:00",
          "2017-10-24T18:00:00",
          "2017-10-24T18:30:00",
          "2017-10-24T19:00:00",
          "2017-10-24T19:30:00",
          "2017-10-24T20:00:00",
          "2017-10-24T20:30:00",
          "2017-10-24T21:00:00",
          "2017-10-24T21:30:00",
          "2017-10-24T22:00:00",
          "2017-10-24T22:30:00",
          "2017-10-24T23:00:00",
          "2017-10-24T23:30:00"
         ],
         "xaxis": "x",
         "y": [
          413.96122827718267,
          415.53789788374064,
          418.9975824757583,
          420.27707014172233,
          421.65415064793336,
          421.5925522383739,
          425.175508113859,
          426.3003170518373,
          429.3623979995857,
          429.658332219678,
          435.778246685104,
          435.15866959279305,
          438.897445856762,
          441.85450463319694,
          432.1345061625743,
          426.31508880337697,
          416.6494266155427,
          415.5419298723497,
          410.32076625215865,
          406.01467332292776,
          404.386226733038,
          401.00687387724,
          399.78482849438666,
          400.21898108305203,
          398.98806727544303,
          399.9351363055163,
          399.78522232368897,
          397.90398343337364,
          397.21746028278903,
          398.0350915825693,
          399.97803544568836,
          417.7499206637376,
          442.2153567782407,
          434.1447104428741,
          424.6529624296746,
          436.41648048508637,
          437.49989237702465,
          429.90404507914076,
          433.379846486988,
          433.47385700634,
          443.434069921862,
          451.906853712203,
          448.53413979587503,
          440.61406083086734,
          440.258391954613,
          435.5081395742166,
          438.0041412788696,
          442.717711032456
         ],
         "yaxis": "y"
        }
       ],
       "layout": {
        "autosize": true,
        "hovermode": "x unified",
        "legend": {
         "title": {
          "text": "Sensor"
         },
         "tracegroupgap": 0
        },
        "template": {
         "data": {
          "bar": [
           {
            "error_x": {
             "color": "#2a3f5f"
            },
            "error_y": {
             "color": "#2a3f5f"
            },
            "marker": {
             "line": {
              "color": "#E5ECF6",
              "width": 0.5
             }
            },
            "type": "bar"
           }
          ],
          "barpolar": [
           {
            "marker": {
             "line": {
              "color": "#E5ECF6",
              "width": 0.5
             }
            },
            "type": "barpolar"
           }
          ],
          "carpet": [
           {
            "aaxis": {
             "endlinecolor": "#2a3f5f",
             "gridcolor": "white",
             "linecolor": "white",
             "minorgridcolor": "white",
             "startlinecolor": "#2a3f5f"
            },
            "baxis": {
             "endlinecolor": "#2a3f5f",
             "gridcolor": "white",
             "linecolor": "white",
             "minorgridcolor": "white",
             "startlinecolor": "#2a3f5f"
            },
            "type": "carpet"
           }
          ],
          "choropleth": [
           {
            "colorbar": {
             "outlinewidth": 0,
             "ticks": ""
            },
            "type": "choropleth"
           }
          ],
          "contour": [
           {
            "colorbar": {
             "outlinewidth": 0,
             "ticks": ""
            },
            "colorscale": [
             [
              0,
              "#0d0887"
             ],
             [
              0.1111111111111111,
              "#46039f"
             ],
             [
              0.2222222222222222,
              "#7201a8"
             ],
             [
              0.3333333333333333,
              "#9c179e"
             ],
             [
              0.4444444444444444,
              "#bd3786"
             ],
             [
              0.5555555555555556,
              "#d8576b"
             ],
             [
              0.6666666666666666,
              "#ed7953"
             ],
             [
              0.7777777777777778,
              "#fb9f3a"
             ],
             [
              0.8888888888888888,
              "#fdca26"
             ],
             [
              1,
              "#f0f921"
             ]
            ],
            "type": "contour"
           }
          ],
          "contourcarpet": [
           {
            "colorbar": {
             "outlinewidth": 0,
             "ticks": ""
            },
            "type": "contourcarpet"
           }
          ],
          "heatmap": [
           {
            "colorbar": {
             "outlinewidth": 0,
             "ticks": ""
            },
            "colorscale": [
             [
              0,
              "#0d0887"
             ],
             [
              0.1111111111111111,
              "#46039f"
             ],
             [
              0.2222222222222222,
              "#7201a8"
             ],
             [
              0.3333333333333333,
              "#9c179e"
             ],
             [
              0.4444444444444444,
              "#bd3786"
             ],
             [
              0.5555555555555556,
              "#d8576b"
             ],
             [
              0.6666666666666666,
              "#ed7953"
             ],
             [
              0.7777777777777778,
              "#fb9f3a"
             ],
             [
              0.8888888888888888,
              "#fdca26"
             ],
             [
              1,
              "#f0f921"
             ]
            ],
            "type": "heatmap"
           }
          ],
          "heatmapgl": [
           {
            "colorbar": {
             "outlinewidth": 0,
             "ticks": ""
            },
            "colorscale": [
             [
              0,
              "#0d0887"
             ],
             [
              0.1111111111111111,
              "#46039f"
             ],
             [
              0.2222222222222222,
              "#7201a8"
             ],
             [
              0.3333333333333333,
              "#9c179e"
             ],
             [
              0.4444444444444444,
              "#bd3786"
             ],
             [
              0.5555555555555556,
              "#d8576b"
             ],
             [
              0.6666666666666666,
              "#ed7953"
             ],
             [
              0.7777777777777778,
              "#fb9f3a"
             ],
             [
              0.8888888888888888,
              "#fdca26"
             ],
             [
              1,
              "#f0f921"
             ]
            ],
            "type": "heatmapgl"
           }
          ],
          "histogram": [
           {
            "marker": {
             "colorbar": {
              "outlinewidth": 0,
              "ticks": ""
             }
            },
            "type": "histogram"
           }
          ],
          "histogram2d": [
           {
            "colorbar": {
             "outlinewidth": 0,
             "ticks": ""
            },
            "colorscale": [
             [
              0,
              "#0d0887"
             ],
             [
              0.1111111111111111,
              "#46039f"
             ],
             [
              0.2222222222222222,
              "#7201a8"
             ],
             [
              0.3333333333333333,
              "#9c179e"
             ],
             [
              0.4444444444444444,
              "#bd3786"
             ],
             [
              0.5555555555555556,
              "#d8576b"
             ],
             [
              0.6666666666666666,
              "#ed7953"
             ],
             [
              0.7777777777777778,
              "#fb9f3a"
             ],
             [
              0.8888888888888888,
              "#fdca26"
             ],
             [
              1,
              "#f0f921"
             ]
            ],
            "type": "histogram2d"
           }
          ],
          "histogram2dcontour": [
           {
            "colorbar": {
             "outlinewidth": 0,
             "ticks": ""
            },
            "colorscale": [
             [
              0,
              "#0d0887"
             ],
             [
              0.1111111111111111,
              "#46039f"
             ],
             [
              0.2222222222222222,
              "#7201a8"
             ],
             [
              0.3333333333333333,
              "#9c179e"
             ],
             [
              0.4444444444444444,
              "#bd3786"
             ],
             [
              0.5555555555555556,
              "#d8576b"
             ],
             [
              0.6666666666666666,
              "#ed7953"
             ],
             [
              0.7777777777777778,
              "#fb9f3a"
             ],
             [
              0.8888888888888888,
              "#fdca26"
             ],
             [
              1,
              "#f0f921"
             ]
            ],
            "type": "histogram2dcontour"
           }
          ],
          "mesh3d": [
           {
            "colorbar": {
             "outlinewidth": 0,
             "ticks": ""
            },
            "type": "mesh3d"
           }
          ],
          "parcoords": [
           {
            "line": {
             "colorbar": {
              "outlinewidth": 0,
              "ticks": ""
             }
            },
            "type": "parcoords"
           }
          ],
          "pie": [
           {
            "automargin": true,
            "type": "pie"
           }
          ],
          "scatter": [
           {
            "marker": {
             "colorbar": {
              "outlinewidth": 0,
              "ticks": ""
             }
            },
            "type": "scatter"
           }
          ],
          "scatter3d": [
           {
            "line": {
             "colorbar": {
              "outlinewidth": 0,
              "ticks": ""
             }
            },
            "marker": {
             "colorbar": {
              "outlinewidth": 0,
              "ticks": ""
             }
            },
            "type": "scatter3d"
           }
          ],
          "scattercarpet": [
           {
            "marker": {
             "colorbar": {
              "outlinewidth": 0,
              "ticks": ""
             }
            },
            "type": "scattercarpet"
           }
          ],
          "scattergeo": [
           {
            "marker": {
             "colorbar": {
              "outlinewidth": 0,
              "ticks": ""
             }
            },
            "type": "scattergeo"
           }
          ],
          "scattergl": [
           {
            "marker": {
             "colorbar": {
              "outlinewidth": 0,
              "ticks": ""
             }
            },
            "type": "scattergl"
           }
          ],
          "scattermapbox": [
           {
            "marker": {
             "colorbar": {
              "outlinewidth": 0,
              "ticks": ""
             }
            },
            "type": "scattermapbox"
           }
          ],
          "scatterpolar": [
           {
            "marker": {
             "colorbar": {
              "outlinewidth": 0,
              "ticks": ""
             }
            },
            "type": "scatterpolar"
           }
          ],
          "scatterpolargl": [
           {
            "marker": {
             "colorbar": {
              "outlinewidth": 0,
              "ticks": ""
             }
            },
            "type": "scatterpolargl"
           }
          ],
          "scatterternary": [
           {
            "marker": {
             "colorbar": {
              "outlinewidth": 0,
              "ticks": ""
             }
            },
            "type": "scatterternary"
           }
          ],
          "surface": [
           {
            "colorbar": {
             "outlinewidth": 0,
             "ticks": ""
            },
            "colorscale": [
             [
              0,
              "#0d0887"
             ],
             [
              0.1111111111111111,
              "#46039f"
             ],
             [
              0.2222222222222222,
              "#7201a8"
             ],
             [
              0.3333333333333333,
              "#9c179e"
             ],
             [
              0.4444444444444444,
              "#bd3786"
             ],
             [
              0.5555555555555556,
              "#d8576b"
             ],
             [
              0.6666666666666666,
              "#ed7953"
             ],
             [
              0.7777777777777778,
              "#fb9f3a"
             ],
             [
              0.8888888888888888,
              "#fdca26"
             ],
             [
              1,
              "#f0f921"
             ]
            ],
            "type": "surface"
           }
          ],
          "table": [
           {
            "cells": {
             "fill": {
              "color": "#EBF0F8"
             },
             "line": {
              "color": "white"
             }
            },
            "header": {
             "fill": {
              "color": "#C8D4E3"
             },
             "line": {
              "color": "white"
             }
            },
            "type": "table"
           }
          ]
         },
         "layout": {
          "annotationdefaults": {
           "arrowcolor": "#2a3f5f",
           "arrowhead": 0,
           "arrowwidth": 1
          },
          "autotypenumbers": "strict",
          "coloraxis": {
           "colorbar": {
            "outlinewidth": 0,
            "ticks": ""
           }
          },
          "colorscale": {
           "diverging": [
            [
             0,
             "#8e0152"
            ],
            [
             0.1,
             "#c51b7d"
            ],
            [
             0.2,
             "#de77ae"
            ],
            [
             0.3,
             "#f1b6da"
            ],
            [
             0.4,
             "#fde0ef"
            ],
            [
             0.5,
             "#f7f7f7"
            ],
            [
             0.6,
             "#e6f5d0"
            ],
            [
             0.7,
             "#b8e186"
            ],
            [
             0.8,
             "#7fbc41"
            ],
            [
             0.9,
             "#4d9221"
            ],
            [
             1,
             "#276419"
            ]
           ],
           "sequential": [
            [
             0,
             "#0d0887"
            ],
            [
             0.1111111111111111,
             "#46039f"
            ],
            [
             0.2222222222222222,
             "#7201a8"
            ],
            [
             0.3333333333333333,
             "#9c179e"
            ],
            [
             0.4444444444444444,
             "#bd3786"
            ],
            [
             0.5555555555555556,
             "#d8576b"
            ],
            [
             0.6666666666666666,
             "#ed7953"
            ],
            [
             0.7777777777777778,
             "#fb9f3a"
            ],
            [
             0.8888888888888888,
             "#fdca26"
            ],
            [
             1,
             "#f0f921"
            ]
           ],
           "sequentialminus": [
            [
             0,
             "#0d0887"
            ],
            [
             0.1111111111111111,
             "#46039f"
            ],
            [
             0.2222222222222222,
             "#7201a8"
            ],
            [
             0.3333333333333333,
             "#9c179e"
            ],
            [
             0.4444444444444444,
             "#bd3786"
            ],
            [
             0.5555555555555556,
             "#d8576b"
            ],
            [
             0.6666666666666666,
             "#ed7953"
            ],
            [
             0.7777777777777778,
             "#fb9f3a"
            ],
            [
             0.8888888888888888,
             "#fdca26"
            ],
            [
             1,
             "#f0f921"
            ]
           ]
          },
          "colorway": [
           "#636efa",
           "#EF553B",
           "#00cc96",
           "#ab63fa",
           "#FFA15A",
           "#19d3f3",
           "#FF6692",
           "#B6E880",
           "#FF97FF",
           "#FECB52"
          ],
          "font": {
           "color": "#2a3f5f"
          },
          "geo": {
           "bgcolor": "white",
           "lakecolor": "white",
           "landcolor": "#E5ECF6",
           "showlakes": true,
           "showland": true,
           "subunitcolor": "white"
          },
          "hoverlabel": {
           "align": "left"
          },
          "hovermode": "closest",
          "mapbox": {
           "style": "light"
          },
          "paper_bgcolor": "white",
          "plot_bgcolor": "#E5ECF6",
          "polar": {
           "angularaxis": {
            "gridcolor": "white",
            "linecolor": "white",
            "ticks": ""
           },
           "bgcolor": "#E5ECF6",
           "radialaxis": {
            "gridcolor": "white",
            "linecolor": "white",
            "ticks": ""
           }
          },
          "scene": {
           "xaxis": {
            "backgroundcolor": "#E5ECF6",
            "gridcolor": "white",
            "gridwidth": 2,
            "linecolor": "white",
            "showbackground": true,
            "ticks": "",
            "zerolinecolor": "white"
           },
           "yaxis": {
            "backgroundcolor": "#E5ECF6",
            "gridcolor": "white",
            "gridwidth": 2,
            "linecolor": "white",
            "showbackground": true,
            "ticks": "",
            "zerolinecolor": "white"
           },
           "zaxis": {
            "backgroundcolor": "#E5ECF6",
            "gridcolor": "white",
            "gridwidth": 2,
            "linecolor": "white",
            "showbackground": true,
            "ticks": "",
            "zerolinecolor": "white"
           }
          },
          "shapedefaults": {
           "line": {
            "color": "#2a3f5f"
           }
          },
          "ternary": {
           "aaxis": {
            "gridcolor": "white",
            "linecolor": "white",
            "ticks": ""
           },
           "baxis": {
            "gridcolor": "white",
            "linecolor": "white",
            "ticks": ""
           },
           "bgcolor": "#E5ECF6",
           "caxis": {
            "gridcolor": "white",
            "linecolor": "white",
            "ticks": ""
           }
          },
          "title": {
           "x": 0.05
          },
          "xaxis": {
           "automargin": true,
           "gridcolor": "white",
           "linecolor": "white",
           "ticks": "",
           "title": {
            "standoff": 15
           },
           "zerolinecolor": "white",
           "zerolinewidth": 2
          },
          "yaxis": {
           "automargin": true,
           "gridcolor": "white",
           "linecolor": "white",
           "ticks": "",
           "title": {
            "standoff": 15
           },
           "zerolinecolor": "white",
           "zerolinewidth": 2
          }
         }
        },
        "title": {
         "text": "CO2 Level (ppm) on October 24th 2017"
        },
        "xaxis": {
         "anchor": "y",
         "autorange": true,
         "domain": [
          0,
          1
         ],
         "dtick": 3600000,
         "range": [
          "2017-10-24",
          "2017-10-24 23:30"
         ],
         "title": {
          "text": "time"
         },
         "type": "date"
        },
        "yaxis": {
         "anchor": "x",
         "autorange": true,
         "domain": [
          0,
          1
         ],
         "range": [
          309.80143643492363,
          606.8809233166984
         ],
         "title": {
          "text": "CO2 (ppm)"
         },
         "type": "linear"
        }
       }
      },
      "image/png": "[encoded data removed]",
      "text/html": [
       "<div>                            <div id=\"439ab191-07bd-4bcb-bc5a-b59204e05b1f\" class=\"plotly-graph-div\" style=\"height:525px; width:100%;\"></div>            <script type=\"text/javascript\">                require([\"plotly\"], function(Plotly) {                    window.PLOTLYENV=window.PLOTLYENV || {};                                    if (document.getElementById(\"439ab191-07bd-4bcb-bc5a-b59204e05b1f\")) {                    Plotly.newPlot(                        \"439ab191-07bd-4bcb-bc5a-b59204e05b1f\",                        [{\"hovertemplate\": \"Sensor=ZSBN<br>time=%{x}<br>CO2 (ppm)=%{y}<extra></extra>\", \"legendgroup\": \"ZSBN\", \"line\": {\"color\": \"#636efa\", \"dash\": \"solid\"}, \"mode\": \"lines\", \"name\": \"ZSBN\", \"orientation\": \"v\", \"showlegend\": true, \"type\": \"scatter\", \"x\": [\"2017-10-24T00:00:00\", \"2017-10-24T00:30:00\", \"2017-10-24T01:00:00\", \"2017-10-24T01:30:00\", \"2017-10-24T02:00:00\", \"2017-10-24T02:30:00\", \"2017-10-24T03:00:00\", \"2017-10-24T03:30:00\", \"2017-10-24T04:00:00\", \"2017-10-24T04:30:00\", \"2017-10-24T05:00:00\", \"2017-10-24T05:30:00\", \"2017-10-24T06:00:00\", \"2017-10-24T06:30:00\", \"2017-10-24T07:00:00\", \"2017-10-24T07:30:00\", \"2017-10-24T08:00:00\", \"2017-10-24T08:30:00\", \"2017-10-24T09:00:00\", \"2017-10-24T09:30:00\", \"2017-10-24T10:00:00\", \"2017-10-24T10:30:00\", \"2017-10-24T11:00:00\", \"2017-10-24T11:30:00\", \"2017-10-24T12:00:00\", \"2017-10-24T12:30:00\", \"2017-10-24T13:00:00\", \"2017-10-24T13:30:00\", \"2017-10-24T14:00:00\", \"2017-10-24T14:30:00\", \"2017-10-24T15:00:00\", \"2017-10-24T15:30:00\", \"2017-10-24T16:00:00\", \"2017-10-24T16:30:00\", \"2017-10-24T17:00:00\", \"2017-10-24T17:30:00\", \"2017-10-24T18:00:00\", \"2017-10-24T18:30:00\", \"2017-10-24T19:00:00\", \"2017-10-24T19:30:00\", \"2017-10-24T20:00:00\", \"2017-10-24T20:30:00\", \"2017-10-24T21:00:00\", \"2017-10-24T21:30:00\", \"2017-10-24T22:00:00\", \"2017-10-24T22:30:00\", \"2017-10-24T23:00:00\", \"2017-10-24T23:30:00\"], \"xaxis\": \"x\", \"y\": [396.87359137604335, 394.398725982938, 395.741771495996, 401.1596487621701, 400.21157236307903, 399.07737111377065, 397.31760213484534, 371.23424057848433, 361.89034671544033, 362.674479728285, 364.6229680290365, 370.444336389517, 371.77470168797254, 360.6087617568435, 365.5659254863426, 359.292809396982, 357.27466078159165, 350.72973452771646, 350.4645575656477, 346.39315775774867, 343.23557635014004, 341.79671812326, 341.0329981291723, 339.9758740005603, 338.3586277004635, 332.0676943817293, 330.9317805292183, 324.65541077901236, 324.88262604944555, 329.85831733659666, 337.7849692550593, 341.6606508103534, 343.438554885191, 351.7684701127065, 357.823067536138, 353.07478537611604, 353.8601930625734, 356.60836483433167, 355.180166078277, 356.25021553922807, 362.91672280371404, 363.85466962411897, 362.1233192780096, 361.00347563017, 357.27934461417, 360.5994908197244, 359.6510787827456, 364.656868284533], \"yaxis\": \"y\"}, {\"hovertemplate\": \"Sensor=ZWCH<br>time=%{x}<br>CO2 (ppm)=%{y}<extra></extra>\", \"legendgroup\": \"ZWCH\", \"line\": {\"color\": \"#EF553B\", \"dash\": \"solid\"}, \"mode\": \"lines\", \"name\": \"ZWCH\", \"orientation\": \"v\", \"showlegend\": true, \"type\": \"scatter\", \"x\": [\"2017-10-24T00:00:00\", \"2017-10-24T00:30:00\", \"2017-10-24T01:00:00\", \"2017-10-24T01:30:00\", \"2017-10-24T02:00:00\", \"2017-10-24T02:30:00\", \"2017-10-24T03:00:00\", \"2017-10-24T03:30:00\", \"2017-10-24T04:00:00\", \"2017-10-24T04:30:00\", \"2017-10-24T05:00:00\", \"2017-10-24T05:30:00\", \"2017-10-24T06:00:00\", \"2017-10-24T06:30:00\", \"2017-10-24T07:00:00\", \"2017-10-24T07:30:00\", \"2017-10-24T08:00:00\", \"2017-10-24T08:30:00\", \"2017-10-24T09:00:00\", \"2017-10-24T09:30:00\", \"2017-10-24T10:00:00\", \"2017-10-24T10:30:00\", \"2017-10-24T11:00:00\", \"2017-10-24T11:30:00\", \"2017-10-24T12:00:00\", \"2017-10-24T12:30:00\", \"2017-10-24T13:00:00\", \"2017-10-24T13:30:00\", \"2017-10-24T14:00:00\", \"2017-10-24T14:30:00\", \"2017-10-24T15:00:00\", \"2017-10-24T15:30:00\", \"2017-10-24T16:00:00\", \"2017-10-24T16:30:00\", \"2017-10-24T17:00:00\", \"2017-10-24T17:30:00\", \"2017-10-24T18:00:00\", \"2017-10-24T18:30:00\", \"2017-10-24T19:00:00\", \"2017-10-24T19:30:00\", \"2017-10-24T20:00:00\", \"2017-10-24T20:30:00\", \"2017-10-24T21:00:00\", \"2017-10-24T21:30:00\", \"2017-10-24T22:00:00\", \"2017-10-24T22:30:00\", \"2017-10-24T23:00:00\", \"2017-10-24T23:30:00\"], \"xaxis\": \"x\", \"y\": [448.7323884681477, 450.0903594606044, 450.3770725721755, 452.0054069148653, 450.5883260419001, 455.05064321581403, 457.29681345414093, 460.68503429504693, 461.9661587238831, 464.10632954462307, 467.631727323368, 464.0118124629235, 470.0962213833223, 469.78580713996234, 462.06616144033336, 459.6674122980105, 450.92474599581766, 448.6850402250223, 442.59791894603836, 438.5907290675725, 431.3723322722203, 429.1217109432535, 429.05785343976896, 427.47473624974396, 428.172803525022, 424.76226718947834, 426.81032980620733, 423.86450780478395, 426.35419632161035, 424.66762388845933, 431.6985435780043, 454.7382416109163, 463.55515084425605, 467.97622964783744, 466.303799358191, 467.401551137283, 475.2341420064604, 463.7548426808019, 456.8800511322831, 462.0898560772366, 483.01665128334196, 490.53526929147, 482.93778869224525, 476.8129428447587, 469.924008203355, 464.5277854025903, 465.338855102222, 473.16940757653344], \"yaxis\": \"y\"}, {\"hovertemplate\": \"Sensor=SMHK<br>time=%{x}<br>CO2 (ppm)=%{y}<extra></extra>\", \"legendgroup\": \"SMHK\", \"line\": {\"color\": \"#00cc96\", \"dash\": \"solid\"}, \"mode\": \"lines\", \"name\": \"SMHK\", \"orientation\": \"v\", \"showlegend\": true, \"type\": \"scatter\", \"x\": [\"2017-10-24T00:00:00\", \"2017-10-24T00:30:00\", \"2017-10-24T01:00:00\", \"2017-10-24T01:30:00\", \"2017-10-24T02:00:00\", \"2017-10-24T02:30:00\", \"2017-10-24T03:00:00\", \"2017-10-24T03:30:00\", \"2017-10-24T04:00:00\", \"2017-10-24T04:30:00\", \"2017-10-24T05:00:00\", \"2017-10-24T05:30:00\", \"2017-10-24T06:00:00\", \"2017-10-24T06:30:00\", \"2017-10-24T07:00:00\", \"2017-10-24T07:30:00\", \"2017-10-24T08:00:00\", \"2017-10-24T08:30:00\", \"2017-10-24T09:00:00\", \"2017-10-24T09:30:00\", \"2017-10-24T10:00:00\", \"2017-10-24T10:30:00\", \"2017-10-24T11:00:00\", \"2017-10-24T11:30:00\", \"2017-10-24T12:00:00\", \"2017-10-24T12:30:00\", \"2017-10-24T13:00:00\", \"2017-10-24T13:30:00\", \"2017-10-24T14:00:00\", \"2017-10-24T14:30:00\", \"2017-10-24T15:00:00\", \"2017-10-24T15:30:00\", \"2017-10-24T16:00:00\", \"2017-10-24T16:30:00\", \"2017-10-24T17:00:00\", \"2017-10-24T17:30:00\", \"2017-10-24T18:00:00\", \"2017-10-24T18:30:00\", \"2017-10-24T19:00:00\", \"2017-10-24T19:30:00\", \"2017-10-24T20:00:00\", \"2017-10-24T20:30:00\", \"2017-10-24T21:00:00\", \"2017-10-24T21:30:00\", \"2017-10-24T22:00:00\", \"2017-10-24T22:30:00\", \"2017-10-24T23:00:00\", \"2017-10-24T23:30:00\"], \"xaxis\": \"x\", \"y\": [529.150371464127, 530.8634078358059, 537.1468245064943, 539.3391513940427, 539.5802203892526, 550.5825191254144, 558.3415326368239, 560.029272336162, 562.2378706312178, 556.117771656563, 557.7739141453027, 563.705865318636, 568.2842183455454, 571.8586110740783, 569.3730602691606, 557.6843274430616, 531.7879740732179, 526.4616622186394, 520.1913931192618, 510.7989640048224, 506.6662906002463, 505.0046939894296, 506.16037109592963, 502.15120750955566, 501.3857236767364, 495.38244189787264, 493.30316509620235, 492.5320146492627, 491.284127444751, 497.4580770830964, 513.19469136488, 523.605337916067, 528.2685013656691, 525.2434707861161, 533.7216741091987, 541.3376270463514, 545.8234470967393, 546.026040596194, 553.9483480110799, 552.0940483630884, 564.365450741008, 563.8842272653123, 569.2246697596464, 570.708369782721, 577.5015564641891, 583.298837197446, 587.6008332675927, 592.0269489726096], \"yaxis\": \"y\"}, {\"hovertemplate\": \"Sensor=ZLDW<br>time=%{x}<br>CO2 (ppm)=%{y}<extra></extra>\", \"legendgroup\": \"ZLDW\", \"line\": {\"color\": \"#ab63fa\", \"dash\": \"solid\"}, \"mode\": \"lines\", \"name\": \"ZLDW\", \"orientation\": \"v\", \"showlegend\": true, \"type\": \"scatter\", \"x\": [\"2017-10-24T00:00:00\", \"2017-10-24T00:30:00\", \"2017-10-24T01:00:00\", \"2017-10-24T01:30:00\", \"2017-10-24T02:00:00\", \"2017-10-24T02:30:00\", \"2017-10-24T03:00:00\", \"2017-10-24T03:30:00\", \"2017-10-24T04:00:00\", \"2017-10-24T04:30:00\", \"2017-10-24T05:00:00\", \"2017-10-24T05:30:00\", \"2017-10-24T06:00:00\", \"2017-10-24T06:30:00\", \"2017-10-24T07:00:00\", \"2017-10-24T07:30:00\", \"2017-10-24T08:00:00\", \"2017-10-24T08:30:00\", \"2017-10-24T09:00:00\", \"2017-10-24T09:30:00\", \"2017-10-24T10:00:00\", \"2017-10-24T10:30:00\", \"2017-10-24T11:00:00\", \"2017-10-24T11:30:00\", \"2017-10-24T12:00:00\", \"2017-10-24T12:30:00\", \"2017-10-24T13:00:00\", \"2017-10-24T13:30:00\", \"2017-10-24T14:00:00\", \"2017-10-24T14:30:00\", \"2017-10-24T15:00:00\", \"2017-10-24T15:30:00\", \"2017-10-24T16:00:00\", \"2017-10-24T16:30:00\", \"2017-10-24T17:00:00\", \"2017-10-24T17:30:00\", \"2017-10-24T18:00:00\", \"2017-10-24T18:30:00\", \"2017-10-24T19:00:00\", \"2017-10-24T19:30:00\", \"2017-10-24T20:00:00\", \"2017-10-24T20:30:00\", \"2017-10-24T21:00:00\", \"2017-10-24T21:30:00\", \"2017-10-24T22:00:00\", \"2017-10-24T22:30:00\", \"2017-10-24T23:00:00\", \"2017-10-24T23:30:00\"], \"xaxis\": \"x\", \"y\": [413.96122827718267, 415.53789788374064, 418.9975824757583, 420.27707014172233, 421.65415064793336, 421.5925522383739, 425.175508113859, 426.3003170518373, 429.3623979995857, 429.658332219678, 435.778246685104, 435.15866959279305, 438.897445856762, 441.85450463319694, 432.1345061625743, 426.31508880337697, 416.6494266155427, 415.5419298723497, 410.32076625215865, 406.01467332292776, 404.386226733038, 401.00687387724, 399.78482849438666, 400.21898108305203, 398.98806727544303, 399.9351363055163, 399.78522232368897, 397.90398343337364, 397.21746028278903, 398.0350915825693, 399.97803544568836, 417.7499206637376, 442.2153567782407, 434.1447104428741, 424.6529624296746, 436.41648048508637, 437.49989237702465, 429.90404507914076, 433.379846486988, 433.47385700634, 443.434069921862, 451.906853712203, 448.53413979587503, 440.61406083086734, 440.258391954613, 435.5081395742166, 438.0041412788696, 442.717711032456], \"yaxis\": \"y\"}],                        {\"hovermode\": \"x unified\", \"legend\": {\"title\": {\"text\": \"Sensor\"}, \"tracegroupgap\": 0}, \"template\": {\"data\": {\"bar\": [{\"error_x\": {\"color\": \"#2a3f5f\"}, \"error_y\": {\"color\": \"#2a3f5f\"}, \"marker\": {\"line\": {\"color\": \"#E5ECF6\", \"width\": 0.5}}, \"type\": \"bar\"}], \"barpolar\": [{\"marker\": {\"line\": {\"color\": \"#E5ECF6\", \"width\": 0.5}}, \"type\": \"barpolar\"}], \"carpet\": [{\"aaxis\": {\"endlinecolor\": \"#2a3f5f\", \"gridcolor\": \"white\", \"linecolor\": \"white\", \"minorgridcolor\": \"white\", \"startlinecolor\": \"#2a3f5f\"}, \"baxis\": {\"endlinecolor\": \"#2a3f5f\", \"gridcolor\": \"white\", \"linecolor\": \"white\", \"minorgridcolor\": \"white\", \"startlinecolor\": \"#2a3f5f\"}, \"type\": \"carpet\"}], \"choropleth\": [{\"colorbar\": {\"outlinewidth\": 0, \"ticks\": \"\"}, \"type\": \"choropleth\"}], \"contour\": [{\"colorbar\": {\"outlinewidth\": 0, \"ticks\": \"\"}, \"colorscale\": [[0.0, \"#0d0887\"], [0.1111111111111111, \"#46039f\"], [0.2222222222222222, \"#7201a8\"], [0.3333333333333333, \"#9c179e\"], [0.4444444444444444, \"#bd3786\"], [0.5555555555555556, \"#d8576b\"], [0.6666666666666666, \"#ed7953\"], [0.7777777777777778, \"#fb9f3a\"], [0.8888888888888888, \"#fdca26\"], [1.0, \"#f0f921\"]], \"type\": \"contour\"}], \"contourcarpet\": [{\"colorbar\": {\"outlinewidth\": 0, \"ticks\": \"\"}, \"type\": \"contourcarpet\"}], \"heatmap\": [{\"colorbar\": {\"outlinewidth\": 0, \"ticks\": \"\"}, \"colorscale\": [[0.0, \"#0d0887\"], [0.1111111111111111, \"#46039f\"], [0.2222222222222222, \"#7201a8\"], [0.3333333333333333, \"#9c179e\"], [0.4444444444444444, \"#bd3786\"], [0.5555555555555556, \"#d8576b\"], [0.6666666666666666, \"#ed7953\"], [0.7777777777777778, \"#fb9f3a\"], [0.8888888888888888, \"#fdca26\"], [1.0, \"#f0f921\"]], \"type\": \"heatmap\"}], \"heatmapgl\": [{\"colorbar\": {\"outlinewidth\": 0, \"ticks\": \"\"}, \"colorscale\": [[0.0, \"#0d0887\"], [0.1111111111111111, \"#46039f\"], [0.2222222222222222, \"#7201a8\"], [0.3333333333333333, \"#9c179e\"], [0.4444444444444444, \"#bd3786\"], [0.5555555555555556, \"#d8576b\"], [0.6666666666666666, \"#ed7953\"], [0.7777777777777778, \"#fb9f3a\"], [0.8888888888888888, \"#fdca26\"], [1.0, \"#f0f921\"]], \"type\": \"heatmapgl\"}], \"histogram\": [{\"marker\": {\"colorbar\": {\"outlinewidth\": 0, \"ticks\": \"\"}}, \"type\": \"histogram\"}], \"histogram2d\": [{\"colorbar\": {\"outlinewidth\": 0, \"ticks\": \"\"}, \"colorscale\": [[0.0, \"#0d0887\"], [0.1111111111111111, \"#46039f\"], [0.2222222222222222, \"#7201a8\"], [0.3333333333333333, \"#9c179e\"], [0.4444444444444444, \"#bd3786\"], [0.5555555555555556, \"#d8576b\"], [0.6666666666666666, \"#ed7953\"], [0.7777777777777778, \"#fb9f3a\"], [0.8888888888888888, \"#fdca26\"], [1.0, \"#f0f921\"]], \"type\": \"histogram2d\"}], \"histogram2dcontour\": [{\"colorbar\": {\"outlinewidth\": 0, \"ticks\": \"\"}, \"colorscale\": [[0.0, \"#0d0887\"], [0.1111111111111111, \"#46039f\"], [0.2222222222222222, \"#7201a8\"], [0.3333333333333333, \"#9c179e\"], [0.4444444444444444, \"#bd3786\"], [0.5555555555555556, \"#d8576b\"], [0.6666666666666666, \"#ed7953\"], [0.7777777777777778, \"#fb9f3a\"], [0.8888888888888888, \"#fdca26\"], [1.0, \"#f0f921\"]], \"type\": \"histogram2dcontour\"}], \"mesh3d\": [{\"colorbar\": {\"outlinewidth\": 0, \"ticks\": \"\"}, \"type\": \"mesh3d\"}], \"parcoords\": [{\"line\": {\"colorbar\": {\"outlinewidth\": 0, \"ticks\": \"\"}}, \"type\": \"parcoords\"}], \"pie\": [{\"automargin\": true, \"type\": \"pie\"}], \"scatter\": [{\"marker\": {\"colorbar\": {\"outlinewidth\": 0, \"ticks\": \"\"}}, \"type\": \"scatter\"}], \"scatter3d\": [{\"line\": {\"colorbar\": {\"outlinewidth\": 0, \"ticks\": \"\"}}, \"marker\": {\"colorbar\": {\"outlinewidth\": 0, \"ticks\": \"\"}}, \"type\": \"scatter3d\"}], \"scattercarpet\": [{\"marker\": {\"colorbar\": {\"outlinewidth\": 0, \"ticks\": \"\"}}, \"type\": \"scattercarpet\"}], \"scattergeo\": [{\"marker\": {\"colorbar\": {\"outlinewidth\": 0, \"ticks\": \"\"}}, \"type\": \"scattergeo\"}], \"scattergl\": [{\"marker\": {\"colorbar\": {\"outlinewidth\": 0, \"ticks\": \"\"}}, \"type\": \"scattergl\"}], \"scattermapbox\": [{\"marker\": {\"colorbar\": {\"outlinewidth\": 0, \"ticks\": \"\"}}, \"type\": \"scattermapbox\"}], \"scatterpolar\": [{\"marker\": {\"colorbar\": {\"outlinewidth\": 0, \"ticks\": \"\"}}, \"type\": \"scatterpolar\"}], \"scatterpolargl\": [{\"marker\": {\"colorbar\": {\"outlinewidth\": 0, \"ticks\": \"\"}}, \"type\": \"scatterpolargl\"}], \"scatterternary\": [{\"marker\": {\"colorbar\": {\"outlinewidth\": 0, \"ticks\": \"\"}}, \"type\": \"scatterternary\"}], \"surface\": [{\"colorbar\": {\"outlinewidth\": 0, \"ticks\": \"\"}, \"colorscale\": [[0.0, \"#0d0887\"], [0.1111111111111111, \"#46039f\"], [0.2222222222222222, \"#7201a8\"], [0.3333333333333333, \"#9c179e\"], [0.4444444444444444, \"#bd3786\"], [0.5555555555555556, \"#d8576b\"], [0.6666666666666666, \"#ed7953\"], [0.7777777777777778, \"#fb9f3a\"], [0.8888888888888888, \"#fdca26\"], [1.0, \"#f0f921\"]], \"type\": \"surface\"}], \"table\": [{\"cells\": {\"fill\": {\"color\": \"#EBF0F8\"}, \"line\": {\"color\": \"white\"}}, \"header\": {\"fill\": {\"color\": \"#C8D4E3\"}, \"line\": {\"color\": \"white\"}}, \"type\": \"table\"}]}, \"layout\": {\"annotationdefaults\": {\"arrowcolor\": \"#2a3f5f\", \"arrowhead\": 0, \"arrowwidth\": 1}, \"autotypenumbers\": \"strict\", \"coloraxis\": {\"colorbar\": {\"outlinewidth\": 0, \"ticks\": \"\"}}, \"colorscale\": {\"diverging\": [[0, \"#8e0152\"], [0.1, \"#c51b7d\"], [0.2, \"#de77ae\"], [0.3, \"#f1b6da\"], [0.4, \"#fde0ef\"], [0.5, \"#f7f7f7\"], [0.6, \"#e6f5d0\"], [0.7, \"#b8e186\"], [0.8, \"#7fbc41\"], [0.9, \"#4d9221\"], [1, \"#276419\"]], \"sequential\": [[0.0, \"#0d0887\"], [0.1111111111111111, \"#46039f\"], [0.2222222222222222, \"#7201a8\"], [0.3333333333333333, \"#9c179e\"], [0.4444444444444444, \"#bd3786\"], [0.5555555555555556, \"#d8576b\"], [0.6666666666666666, \"#ed7953\"], [0.7777777777777778, \"#fb9f3a\"], [0.8888888888888888, \"#fdca26\"], [1.0, \"#f0f921\"]], \"sequentialminus\": [[0.0, \"#0d0887\"], [0.1111111111111111, \"#46039f\"], [0.2222222222222222, \"#7201a8\"], [0.3333333333333333, \"#9c179e\"], [0.4444444444444444, \"#bd3786\"], [0.5555555555555556, \"#d8576b\"], [0.6666666666666666, \"#ed7953\"], [0.7777777777777778, \"#fb9f3a\"], [0.8888888888888888, \"#fdca26\"], [1.0, \"#f0f921\"]]}, \"colorway\": [\"#636efa\", \"#EF553B\", \"#00cc96\", \"#ab63fa\", \"#FFA15A\", \"#19d3f3\", \"#FF6692\", \"#B6E880\", \"#FF97FF\", \"#FECB52\"], \"font\": {\"color\": \"#2a3f5f\"}, \"geo\": {\"bgcolor\": \"white\", \"lakecolor\": \"white\", \"landcolor\": \"#E5ECF6\", \"showlakes\": true, \"showland\": true, \"subunitcolor\": \"white\"}, \"hoverlabel\": {\"align\": \"left\"}, \"hovermode\": \"closest\", \"mapbox\": {\"style\": \"light\"}, \"paper_bgcolor\": \"white\", \"plot_bgcolor\": \"#E5ECF6\", \"polar\": {\"angularaxis\": {\"gridcolor\": \"white\", \"linecolor\": \"white\", \"ticks\": \"\"}, \"bgcolor\": \"#E5ECF6\", \"radialaxis\": {\"gridcolor\": \"white\", \"linecolor\": \"white\", \"ticks\": \"\"}}, \"scene\": {\"xaxis\": {\"backgroundcolor\": \"#E5ECF6\", \"gridcolor\": \"white\", \"gridwidth\": 2, \"linecolor\": \"white\", \"showbackground\": true, \"ticks\": \"\", \"zerolinecolor\": \"white\"}, \"yaxis\": {\"backgroundcolor\": \"#E5ECF6\", \"gridcolor\": \"white\", \"gridwidth\": 2, \"linecolor\": \"white\", \"showbackground\": true, \"ticks\": \"\", \"zerolinecolor\": \"white\"}, \"zaxis\": {\"backgroundcolor\": \"#E5ECF6\", \"gridcolor\": \"white\", \"gridwidth\": 2, \"linecolor\": \"white\", \"showbackground\": true, \"ticks\": \"\", \"zerolinecolor\": \"white\"}}, \"shapedefaults\": {\"line\": {\"color\": \"#2a3f5f\"}}, \"ternary\": {\"aaxis\": {\"gridcolor\": \"white\", \"linecolor\": \"white\", \"ticks\": \"\"}, \"baxis\": {\"gridcolor\": \"white\", \"linecolor\": \"white\", \"ticks\": \"\"}, \"bgcolor\": \"#E5ECF6\", \"caxis\": {\"gridcolor\": \"white\", \"linecolor\": \"white\", \"ticks\": \"\"}}, \"title\": {\"x\": 0.05}, \"xaxis\": {\"automargin\": true, \"gridcolor\": \"white\", \"linecolor\": \"white\", \"ticks\": \"\", \"title\": {\"standoff\": 15}, \"zerolinecolor\": \"white\", \"zerolinewidth\": 2}, \"yaxis\": {\"automargin\": true, \"gridcolor\": \"white\", \"linecolor\": \"white\", \"ticks\": \"\", \"title\": {\"standoff\": 15}, \"zerolinecolor\": \"white\", \"zerolinewidth\": 2}}}, \"title\": {\"text\": \"CO2 Level (ppm) on October 24th 2017\"}, \"xaxis\": {\"anchor\": \"y\", \"domain\": [0.0, 1.0], \"dtick\": 3600000, \"title\": {\"text\": \"time\"}}, \"yaxis\": {\"anchor\": \"x\", \"domain\": [0.0, 1.0], \"title\": {\"text\": \"CO2 (ppm)\"}}},                        {\"responsive\": true}                    ).then(function(){\n",
       "                            \n",
       "var gd = document.getElementById('439ab191-07bd-4bcb-bc5a-b59204e05b1f');\n",
       "var x = new MutationObserver(function (mutations, observer) {{\n",
       "        var display = window.getComputedStyle(gd).display;\n",
       "        if (!display || display === 'none') {{\n",
       "            console.log([gd, 'removed!']);\n",
       "            Plotly.purge(gd);\n",
       "            observer.disconnect();\n",
       "        }}\n",
       "}});\n",
       "\n",
       "// Listen for the removal of the full notebook cells\n",
       "var notebookContainer = gd.closest('#notebook-container');\n",
       "if (notebookContainer) {{\n",
       "    x.observe(notebookContainer, {childList: true});\n",
       "}}\n",
       "\n",
       "// Listen for the clearing of the current output cell\n",
       "var outputEl = gd.closest('.output');\n",
       "if (outputEl) {{\n",
       "    x.observe(outputEl, {childList: true});\n",
       "}}\n",
       "\n",
       "                        })                };                });            </script>        </div>"
      ]
     },
     "metadata": {},
     "output_type": "display_data"
    }
   ],
   "source": [
    "fig = px.line(df_comparison,\n",
    "            y='CO2',\n",
    "            color='LocationName',\n",
    "            labels={\n",
    "                'timestamp':'time',\n",
    "                'CO2':'CO2 (ppm)',\n",
    "                'LocationName':'Sensor'\n",
    "            }, \n",
    "            title='CO2 Level (ppm) on October 24th 2017'\n",
    "           )\n",
    "fig.update_xaxes(\n",
    "    dtick=60*60*1000\n",
    ")\n",
    "fig.update_layout(\n",
    "    hovermode='x unified'\n",
    ")\n",
    "fig.show()"
   ]
  },
  {
   "cell_type": "markdown",
   "metadata": {},
   "source": [
    "### b) **8/35**\n",
    "\n",
    "The domain experts ask you if you could reconstruct the CO2 concentration of the drifting sensor had the drift not happened. You decide to:\n",
    "- Fit a linear regression model to the CO2 measurements of the site, by considering as features the covariates not affected by the malfunction (such as temperature and humidity)\n",
    "- Create an interactive plot with `plotly` (or other similar graphing libraries):\n",
    "    - the actual CO2 measurements\n",
    "    - the values obtained by the prediction of the linear model for the entire month of October\n",
    "    - the __confidence interval__ obtained from cross validation\n",
    "- What do you observe? Report your findings.\n",
    "\n",
    "__Note:__ Cross validation on time series is different from that on other kinds of datasets. The following diagram illustrates the series of training sets (in orange) and validation sets (in blue). For more on time series cross validation, there are a lot of interesting articles available online. scikit-learn provides a nice method [`sklearn.model_selection.TimeSeriesSplit`](https://scikit-learn.org/stable/modules/generated/sklearn.model_selection.TimeSeriesSplit.html).\n",
    "\n",
    "![ts_cv](https://player.slideplayer.com/86/14062041/slides/slide_28.jpg)"
   ]
  },
  {
   "cell_type": "code",
   "execution_count": null,
   "metadata": {},
   "outputs": [],
   "source": []
  },
  {
   "cell_type": "markdown",
   "metadata": {},
   "source": [
    "### c) **10/35**\n",
    "\n",
    "In your next attempt to solve the problem, you decide to exploit the fact that the CO2 concentrations, as measured by the sensors __experiencing similar conditions__, are expected to be similar.\n",
    "\n",
    "- Find the sensors sharing similar conditions with `ZSBN`. Explain your definition of \"similar condition\".\n",
    "- Fit a linear regression model to the CO2 measurements of the site, by considering as features:\n",
    "    - the information of provided by similar sensors\n",
    "    - the covariates associated with the faulty sensors that were not affected by the malfunction (such as temperature and humidity).\n",
    "- Create an interactive plot with `plotly` (or other similar graphing libraries):\n",
    "    - the actual CO2 measurements\n",
    "    - the values obtained by the prediction of the linear model for the entire month of October\n",
    "    - the __confidence interval__ obtained from cross validation\n",
    "- What do you observe? Report your findings."
   ]
  },
  {
   "cell_type": "code",
   "execution_count": null,
   "metadata": {},
   "outputs": [],
   "source": []
  },
  {
   "cell_type": "markdown",
   "metadata": {},
   "source": [
    "### d) **10/35**\n",
    "\n",
    "Now, instead of feeding the model with all features, you want to do something smarter by using linear regression with fewer features.\n",
    "\n",
    "- Start with the same sensors and features as in question c)\n",
    "- Leverage at least two different feature selection methods\n",
    "- Create similar interactive plot as in question c)\n",
    "- Describe the methods you choose and report your findings"
   ]
  },
  {
   "cell_type": "code",
   "execution_count": null,
   "metadata": {},
   "outputs": [],
   "source": []
  },
  {
   "cell_type": "markdown",
   "metadata": {},
   "source": [
    "### e) **5/35**\n",
    "\n",
    "Eventually, you'd like to try something new - __Bayesian Structural Time Series Modelling__ - to reconstruct counterfactual values, that is, what the CO2 measurements of the faulty sensor should have been, had the malfunction not happened on October 24. You will use:\n",
    "- the information of provided by similar sensors - the ones you identified in question c)\n",
    "- the covariates associated with the faulty sensors that were not affected by the malfunction (such as temperature and humidity).\n",
    "\n",
    "To answer this question, you can choose between a Python port of the CausalImpact package (such as https://github.com/dafiti/causalimpact) or the original R version (https://google.github.io/CausalImpact/CausalImpact.html) that you can run in your notebook via an R kernel (https://github.com/IRkernel/IRkernel).\n",
    "\n",
    "Before you start, watch first the [presentation](https://www.youtube.com/watch?v=GTgZfCltMm8) given by Kay Brodersen (one of the creators of the causal impact implementation in R), and this introductory [ipython notebook](http://nbviewer.jupyter.org/github/dafiti/causalimpact/blob/master/examples/getting_started.ipynb) with examples of how to use the python package.\n",
    "\n",
    "- Report your findings:\n",
    "    - Is the counterfactual reconstruction of CO2 measurements significantly different from the observed measurements?\n",
    "    - Can you try to explain the results?"
   ]
  },
  {
   "cell_type": "code",
   "execution_count": null,
   "metadata": {},
   "outputs": [],
   "source": []
  },
  {
   "cell_type": "markdown",
   "metadata": {},
   "source": [
    "# That's all, folks!"
   ]
  }
 ],
 "metadata": {
  "anaconda-cloud": {},
  "kernelspec": {
   "display_name": "Python 3",
   "language": "python",
   "name": "python3"
  },
  "language_info": {
   "codemirror_mode": {
    "name": "ipython",
    "version": 3
   },
   "file_extension": ".py",
   "mimetype": "text/x-python",
   "name": "python",
   "nbconvert_exporter": "python",
   "pygments_lexer": "ipython3",
   "version": "3.7.6"
  }
 },
 "nbformat": 4,
 "nbformat_minor": 4
}
